{
  "cells": [
    {
      "cell_type": "markdown",
      "metadata": {
        "id": "view-in-github",
        "colab_type": "text"
      },
      "source": [
        "<a href=\"https://colab.research.google.com/github/rudysemola/AutoCL-materials/blob/main/FLAML_automl_classification.ipynb\" target=\"_parent\"><img src=\"https://colab.research.google.com/assets/colab-badge.svg\" alt=\"Open In Colab\"/></a>"
      ]
    },
    {
      "cell_type": "markdown",
      "metadata": {
        "id": "icNMqwp319xa"
      },
      "source": [
        "# AutoML with FLAML Library\n",
        "NOTE: all automl\n",
        "\n",
        "## 1. Introduction\n",
        "\n",
        "FLAML is a Python library (https://github.com/microsoft/FLAML) designed to automatically produce accurate machine learning models \n",
        "with low computational cost. It is fast and economical. The simple and lightweight design makes it easy to use and extend, such as adding new learners. FLAML can \n",
        "- serve as an economical AutoML engine,\n",
        "- be used as a fast hyperparameter tuning tool, or \n",
        "- be embedded in self-tuning software that requires low latency & resource in repetitive\n",
        "   tuning tasks.\n",
        "\n",
        "In this notebook, we use a binary classification task to showcase the task-oriented AutoML in FLAML library.\n",
        "\n",
        "FLAML requires `Python>=3.7`. To run this notebook example, please install flaml with the `notebook` option:\n",
        "```bash\n",
        "pip install flaml[notebook]\n",
        "```"
      ]
    },
    {
      "cell_type": "code",
      "execution_count": null,
      "metadata": {
        "id": "xSk5Dus419xi"
      },
      "outputs": [],
      "source": [
        "%pip install flaml[notebook]==1.1.1"
      ]
    },
    {
      "cell_type": "markdown",
      "metadata": {
        "id": "ddVoQ0ES19xk"
      },
      "source": [
        "## 2. Classification Example\n",
        "### Load data and preprocess\n",
        "\n",
        "Download [Airlines dataset](https://www.openml.org/d/1169) from OpenML. The task is to predict whether a given flight will be delayed, given the information of the scheduled departure."
      ]
    },
    {
      "cell_type": "code",
      "execution_count": 2,
      "metadata": {
        "tags": [],
        "id": "C5pJvWQn19xl",
        "outputId": "e13f7e07-731c-4973-8f9b-10b9a3fefc7e",
        "colab": {
          "base_uri": "https://localhost:8080/"
        }
      },
      "outputs": [
        {
          "output_type": "stream",
          "name": "stdout",
          "text": [
            "download dataset from openml\n"
          ]
        },
        {
          "output_type": "stream",
          "name": "stderr",
          "text": [
            "DEBUG:openml.datasets.dataset:Saved dataset 1169: airlines to file /root/.openml/cache/org/openml/www/datasets/1169/dataset.pkl.py3\n"
          ]
        },
        {
          "output_type": "stream",
          "name": "stdout",
          "text": [
            "Dataset name: airlines\n",
            "X_train.shape: (404537, 7), y_train.shape: (404537,);\n",
            "X_test.shape: (134846, 7), y_test.shape: (134846,)\n"
          ]
        }
      ],
      "source": [
        "from flaml.data import load_openml_dataset\n",
        "\n",
        "X_train, X_test, y_train, y_test = load_openml_dataset(dataset_id=1169, data_dir='./')"
      ]
    },
    {
      "cell_type": "code",
      "execution_count": 3,
      "metadata": {
        "id": "mUrXoV7419xn",
        "colab": {
          "base_uri": "https://localhost:8080/",
          "height": 206
        },
        "outputId": "946766c6-aa44-4d7a-b9ee-77f40ade6287"
      },
      "outputs": [
        {
          "output_type": "execute_result",
          "data": {
            "text/plain": [
              "       Airline  Flight AirportFrom AirportTo DayOfWeek   Time  Length\n",
              "249392      EV  5309.0         MDT       ATL         3  794.0   131.0\n",
              "166918      CO  1079.0         IAH       SAT         5  900.0    60.0\n",
              "89110       US  1636.0         CLE       CLT         1  530.0   103.0\n",
              "70258       WN   928.0         CMH       LAS         7  480.0   280.0\n",
              "492985      WN   729.0         GEG       LAS         3  630.0   140.0"
            ],
            "text/html": [
              "\n",
              "  <div id=\"df-6bd950d4-e9b2-40c6-b193-7d3ebb59255a\">\n",
              "    <div class=\"colab-df-container\">\n",
              "      <div>\n",
              "<style scoped>\n",
              "    .dataframe tbody tr th:only-of-type {\n",
              "        vertical-align: middle;\n",
              "    }\n",
              "\n",
              "    .dataframe tbody tr th {\n",
              "        vertical-align: top;\n",
              "    }\n",
              "\n",
              "    .dataframe thead th {\n",
              "        text-align: right;\n",
              "    }\n",
              "</style>\n",
              "<table border=\"1\" class=\"dataframe\">\n",
              "  <thead>\n",
              "    <tr style=\"text-align: right;\">\n",
              "      <th></th>\n",
              "      <th>Airline</th>\n",
              "      <th>Flight</th>\n",
              "      <th>AirportFrom</th>\n",
              "      <th>AirportTo</th>\n",
              "      <th>DayOfWeek</th>\n",
              "      <th>Time</th>\n",
              "      <th>Length</th>\n",
              "    </tr>\n",
              "  </thead>\n",
              "  <tbody>\n",
              "    <tr>\n",
              "      <th>249392</th>\n",
              "      <td>EV</td>\n",
              "      <td>5309.0</td>\n",
              "      <td>MDT</td>\n",
              "      <td>ATL</td>\n",
              "      <td>3</td>\n",
              "      <td>794.0</td>\n",
              "      <td>131.0</td>\n",
              "    </tr>\n",
              "    <tr>\n",
              "      <th>166918</th>\n",
              "      <td>CO</td>\n",
              "      <td>1079.0</td>\n",
              "      <td>IAH</td>\n",
              "      <td>SAT</td>\n",
              "      <td>5</td>\n",
              "      <td>900.0</td>\n",
              "      <td>60.0</td>\n",
              "    </tr>\n",
              "    <tr>\n",
              "      <th>89110</th>\n",
              "      <td>US</td>\n",
              "      <td>1636.0</td>\n",
              "      <td>CLE</td>\n",
              "      <td>CLT</td>\n",
              "      <td>1</td>\n",
              "      <td>530.0</td>\n",
              "      <td>103.0</td>\n",
              "    </tr>\n",
              "    <tr>\n",
              "      <th>70258</th>\n",
              "      <td>WN</td>\n",
              "      <td>928.0</td>\n",
              "      <td>CMH</td>\n",
              "      <td>LAS</td>\n",
              "      <td>7</td>\n",
              "      <td>480.0</td>\n",
              "      <td>280.0</td>\n",
              "    </tr>\n",
              "    <tr>\n",
              "      <th>492985</th>\n",
              "      <td>WN</td>\n",
              "      <td>729.0</td>\n",
              "      <td>GEG</td>\n",
              "      <td>LAS</td>\n",
              "      <td>3</td>\n",
              "      <td>630.0</td>\n",
              "      <td>140.0</td>\n",
              "    </tr>\n",
              "  </tbody>\n",
              "</table>\n",
              "</div>\n",
              "      <button class=\"colab-df-convert\" onclick=\"convertToInteractive('df-6bd950d4-e9b2-40c6-b193-7d3ebb59255a')\"\n",
              "              title=\"Convert this dataframe to an interactive table.\"\n",
              "              style=\"display:none;\">\n",
              "        \n",
              "  <svg xmlns=\"http://www.w3.org/2000/svg\" height=\"24px\"viewBox=\"0 0 24 24\"\n",
              "       width=\"24px\">\n",
              "    <path d=\"M0 0h24v24H0V0z\" fill=\"none\"/>\n",
              "    <path d=\"M18.56 5.44l.94 2.06.94-2.06 2.06-.94-2.06-.94-.94-2.06-.94 2.06-2.06.94zm-11 1L8.5 8.5l.94-2.06 2.06-.94-2.06-.94L8.5 2.5l-.94 2.06-2.06.94zm10 10l.94 2.06.94-2.06 2.06-.94-2.06-.94-.94-2.06-.94 2.06-2.06.94z\"/><path d=\"M17.41 7.96l-1.37-1.37c-.4-.4-.92-.59-1.43-.59-.52 0-1.04.2-1.43.59L10.3 9.45l-7.72 7.72c-.78.78-.78 2.05 0 2.83L4 21.41c.39.39.9.59 1.41.59.51 0 1.02-.2 1.41-.59l7.78-7.78 2.81-2.81c.8-.78.8-2.07 0-2.86zM5.41 20L4 18.59l7.72-7.72 1.47 1.35L5.41 20z\"/>\n",
              "  </svg>\n",
              "      </button>\n",
              "      \n",
              "  <style>\n",
              "    .colab-df-container {\n",
              "      display:flex;\n",
              "      flex-wrap:wrap;\n",
              "      gap: 12px;\n",
              "    }\n",
              "\n",
              "    .colab-df-convert {\n",
              "      background-color: #E8F0FE;\n",
              "      border: none;\n",
              "      border-radius: 50%;\n",
              "      cursor: pointer;\n",
              "      display: none;\n",
              "      fill: #1967D2;\n",
              "      height: 32px;\n",
              "      padding: 0 0 0 0;\n",
              "      width: 32px;\n",
              "    }\n",
              "\n",
              "    .colab-df-convert:hover {\n",
              "      background-color: #E2EBFA;\n",
              "      box-shadow: 0px 1px 2px rgba(60, 64, 67, 0.3), 0px 1px 3px 1px rgba(60, 64, 67, 0.15);\n",
              "      fill: #174EA6;\n",
              "    }\n",
              "\n",
              "    [theme=dark] .colab-df-convert {\n",
              "      background-color: #3B4455;\n",
              "      fill: #D2E3FC;\n",
              "    }\n",
              "\n",
              "    [theme=dark] .colab-df-convert:hover {\n",
              "      background-color: #434B5C;\n",
              "      box-shadow: 0px 1px 3px 1px rgba(0, 0, 0, 0.15);\n",
              "      filter: drop-shadow(0px 1px 2px rgba(0, 0, 0, 0.3));\n",
              "      fill: #FFFFFF;\n",
              "    }\n",
              "  </style>\n",
              "\n",
              "      <script>\n",
              "        const buttonEl =\n",
              "          document.querySelector('#df-6bd950d4-e9b2-40c6-b193-7d3ebb59255a button.colab-df-convert');\n",
              "        buttonEl.style.display =\n",
              "          google.colab.kernel.accessAllowed ? 'block' : 'none';\n",
              "\n",
              "        async function convertToInteractive(key) {\n",
              "          const element = document.querySelector('#df-6bd950d4-e9b2-40c6-b193-7d3ebb59255a');\n",
              "          const dataTable =\n",
              "            await google.colab.kernel.invokeFunction('convertToInteractive',\n",
              "                                                     [key], {});\n",
              "          if (!dataTable) return;\n",
              "\n",
              "          const docLinkHtml = 'Like what you see? Visit the ' +\n",
              "            '<a target=\"_blank\" href=https://colab.research.google.com/notebooks/data_table.ipynb>data table notebook</a>'\n",
              "            + ' to learn more about interactive tables.';\n",
              "          element.innerHTML = '';\n",
              "          dataTable['output_type'] = 'display_data';\n",
              "          await google.colab.output.renderOutput(dataTable, element);\n",
              "          const docLink = document.createElement('div');\n",
              "          docLink.innerHTML = docLinkHtml;\n",
              "          element.appendChild(docLink);\n",
              "        }\n",
              "      </script>\n",
              "    </div>\n",
              "  </div>\n",
              "  "
            ]
          },
          "metadata": {},
          "execution_count": 3
        }
      ],
      "source": [
        "X_train.head()"
      ]
    },
    {
      "cell_type": "markdown",
      "metadata": {
        "id": "5b1v4wKY19xo"
      },
      "source": [
        "### Run FLAML\n",
        "In the FLAML automl run configuration, users can specify the task type, time budget, error metric, learner list, whether to subsample, resampling strategy type, and so on. All these arguments have default values which will be used if users do not provide them. For example, the default classifiers are `['lgbm', 'xgboost', 'xgb_limitdepth', 'catboost', 'rf', 'extra_tree', 'lrl1']`. "
      ]
    },
    {
      "cell_type": "code",
      "execution_count": 4,
      "metadata": {
        "id": "AVVA7HMl19xp"
      },
      "outputs": [],
      "source": [
        "''' import AutoML class from flaml package '''\n",
        "from flaml import AutoML\n",
        "\n",
        "automl = AutoML()"
      ]
    },
    {
      "cell_type": "code",
      "execution_count": 5,
      "metadata": {
        "id": "i1yG5Eiy19xq"
      },
      "outputs": [],
      "source": [
        "settings = {\n",
        "    \"time_budget\": 600,  # total running time in seconds\n",
        "    \"metric\": 'accuracy', \n",
        "                        # check the documentation for options of metrics (https://microsoft.github.io/FLAML/docs/Use-Cases/Task-Oriented-AutoML#optimization-metric)\n",
        "    \"task\": 'classification',  # task type\n",
        "    \"log_file_name\": 'airlines_experiment.log',  # flaml log file\n",
        "    \"seed\": 7654321,    # random seed\n",
        "}\n"
      ]
    },
    {
      "cell_type": "code",
      "execution_count": 6,
      "metadata": {
        "tags": [
          "outputPrepend"
        ],
        "id": "5-B80V3h19xr",
        "outputId": "22b6e4e9-7e99-4c57-8c2f-1f3098c18774",
        "colab": {
          "base_uri": "https://localhost:8080/"
        }
      },
      "outputs": [
        {
          "output_type": "stream",
          "name": "stdout",
          "text": [
            "[flaml.automl.automl: 03-02 15:17:10] {2715} INFO - task = classification\n",
            "[flaml.automl.automl: 03-02 15:17:10] {2717} INFO - Data split method: stratified\n",
            "[flaml.automl.automl: 03-02 15:17:10] {2720} INFO - Evaluation method: holdout\n",
            "[flaml.automl.automl: 03-02 15:17:10] {2847} INFO - Minimizing error metric: 1-accuracy\n",
            "[flaml.automl.automl: 03-02 15:17:10] {2993} INFO - List of ML learners in AutoML Run: ['lgbm', 'rf', 'xgboost', 'extra_tree', 'xgb_limitdepth', 'lrl1']\n",
            "[flaml.automl.automl: 03-02 15:17:10] {3322} INFO - iteration 0, current learner lgbm\n",
            "[flaml.automl.automl: 03-02 15:17:10] {3460} INFO - Estimated sufficient time budget=17073s. Estimated necessary time budget=394s.\n",
            "[flaml.automl.automl: 03-02 15:17:10] {3507} INFO -  at 0.6s,\testimator lgbm's best error=0.3777,\tbest estimator lgbm's best error=0.3777\n",
            "[flaml.automl.automl: 03-02 15:17:10] {3322} INFO - iteration 1, current learner lgbm\n",
            "[flaml.automl.automl: 03-02 15:17:11] {3507} INFO -  at 0.7s,\testimator lgbm's best error=0.3777,\tbest estimator lgbm's best error=0.3777\n",
            "[flaml.automl.automl: 03-02 15:17:11] {3322} INFO - iteration 2, current learner lgbm\n",
            "[flaml.automl.automl: 03-02 15:17:11] {3507} INFO -  at 0.8s,\testimator lgbm's best error=0.3614,\tbest estimator lgbm's best error=0.3614\n",
            "[flaml.automl.automl: 03-02 15:17:11] {3322} INFO - iteration 3, current learner xgboost\n"
          ]
        },
        {
          "output_type": "stream",
          "name": "stderr",
          "text": [
            "/usr/local/lib/python3.8/dist-packages/xgboost/sklearn.py:1395: UserWarning: `use_label_encoder` is deprecated in 1.7.0.\n",
            "  warnings.warn(\"`use_label_encoder` is deprecated in 1.7.0.\")\n"
          ]
        },
        {
          "output_type": "stream",
          "name": "stdout",
          "text": [
            "[flaml.automl.automl: 03-02 15:17:11] {3507} INFO -  at 1.4s,\testimator xgboost's best error=0.3787,\tbest estimator lgbm's best error=0.3614\n",
            "[flaml.automl.automl: 03-02 15:17:11] {3322} INFO - iteration 4, current learner extra_tree\n",
            "[flaml.automl.automl: 03-02 15:17:11] {3507} INFO -  at 1.5s,\testimator extra_tree's best error=0.3787,\tbest estimator lgbm's best error=0.3614\n",
            "[flaml.automl.automl: 03-02 15:17:11] {3322} INFO - iteration 5, current learner lgbm\n",
            "[flaml.automl.automl: 03-02 15:17:11] {3507} INFO -  at 1.6s,\testimator lgbm's best error=0.3614,\tbest estimator lgbm's best error=0.3614\n",
            "[flaml.automl.automl: 03-02 15:17:11] {3322} INFO - iteration 6, current learner xgboost\n",
            "[flaml.automl.automl: 03-02 15:17:11] {3507} INFO -  at 1.7s,\testimator xgboost's best error=0.3746,\tbest estimator lgbm's best error=0.3614\n",
            "[flaml.automl.automl: 03-02 15:17:11] {3322} INFO - iteration 7, current learner lgbm\n",
            "[flaml.automl.automl: 03-02 15:17:12] {3507} INFO -  at 1.8s,\testimator lgbm's best error=0.3614,\tbest estimator lgbm's best error=0.3614\n",
            "[flaml.automl.automl: 03-02 15:17:12] {3322} INFO - iteration 8, current learner lgbm\n"
          ]
        },
        {
          "output_type": "stream",
          "name": "stderr",
          "text": [
            "/usr/local/lib/python3.8/dist-packages/xgboost/sklearn.py:1395: UserWarning: `use_label_encoder` is deprecated in 1.7.0.\n",
            "  warnings.warn(\"`use_label_encoder` is deprecated in 1.7.0.\")\n"
          ]
        },
        {
          "output_type": "stream",
          "name": "stdout",
          "text": [
            "[flaml.automl.automl: 03-02 15:17:12] {3507} INFO -  at 1.9s,\testimator lgbm's best error=0.3614,\tbest estimator lgbm's best error=0.3614\n",
            "[flaml.automl.automl: 03-02 15:17:12] {3322} INFO - iteration 9, current learner xgboost\n",
            "[flaml.automl.automl: 03-02 15:17:12] {3507} INFO -  at 2.0s,\testimator xgboost's best error=0.3699,\tbest estimator lgbm's best error=0.3614\n",
            "[flaml.automl.automl: 03-02 15:17:12] {3322} INFO - iteration 10, current learner extra_tree\n",
            "[flaml.automl.automl: 03-02 15:17:12] {3507} INFO -  at 2.1s,\testimator extra_tree's best error=0.3787,\tbest estimator lgbm's best error=0.3614\n",
            "[flaml.automl.automl: 03-02 15:17:12] {3322} INFO - iteration 11, current learner extra_tree\n"
          ]
        },
        {
          "output_type": "stream",
          "name": "stderr",
          "text": [
            "/usr/local/lib/python3.8/dist-packages/xgboost/sklearn.py:1395: UserWarning: `use_label_encoder` is deprecated in 1.7.0.\n",
            "  warnings.warn(\"`use_label_encoder` is deprecated in 1.7.0.\")\n"
          ]
        },
        {
          "output_type": "stream",
          "name": "stdout",
          "text": [
            "[flaml.automl.automl: 03-02 15:17:12] {3507} INFO -  at 2.2s,\testimator extra_tree's best error=0.3787,\tbest estimator lgbm's best error=0.3614\n",
            "[flaml.automl.automl: 03-02 15:17:12] {3322} INFO - iteration 12, current learner rf\n",
            "[flaml.automl.automl: 03-02 15:17:12] {3507} INFO -  at 2.2s,\testimator rf's best error=0.3816,\tbest estimator lgbm's best error=0.3614\n",
            "[flaml.automl.automl: 03-02 15:17:12] {3322} INFO - iteration 13, current learner rf\n",
            "[flaml.automl.automl: 03-02 15:17:12] {3507} INFO -  at 2.3s,\testimator rf's best error=0.3791,\tbest estimator lgbm's best error=0.3614\n",
            "[flaml.automl.automl: 03-02 15:17:12] {3322} INFO - iteration 14, current learner rf\n",
            "[flaml.automl.automl: 03-02 15:17:12] {3507} INFO -  at 2.4s,\testimator rf's best error=0.3791,\tbest estimator lgbm's best error=0.3614\n",
            "[flaml.automl.automl: 03-02 15:17:12] {3322} INFO - iteration 15, current learner xgboost\n",
            "[flaml.automl.automl: 03-02 15:17:12] {3507} INFO -  at 2.6s,\testimator xgboost's best error=0.3596,\tbest estimator xgboost's best error=0.3596\n",
            "[flaml.automl.automl: 03-02 15:17:12] {3322} INFO - iteration 16, current learner lgbm\n"
          ]
        },
        {
          "output_type": "stream",
          "name": "stderr",
          "text": [
            "/usr/local/lib/python3.8/dist-packages/xgboost/sklearn.py:1395: UserWarning: `use_label_encoder` is deprecated in 1.7.0.\n",
            "  warnings.warn(\"`use_label_encoder` is deprecated in 1.7.0.\")\n"
          ]
        },
        {
          "output_type": "stream",
          "name": "stdout",
          "text": [
            "[flaml.automl.automl: 03-02 15:17:13] {3507} INFO -  at 2.8s,\testimator lgbm's best error=0.3614,\tbest estimator xgboost's best error=0.3596\n",
            "[flaml.automl.automl: 03-02 15:17:13] {3322} INFO - iteration 17, current learner xgboost\n",
            "[flaml.automl.automl: 03-02 15:17:13] {3507} INFO -  at 2.8s,\testimator xgboost's best error=0.3596,\tbest estimator xgboost's best error=0.3596\n",
            "[flaml.automl.automl: 03-02 15:17:13] {3322} INFO - iteration 18, current learner lgbm\n",
            "[flaml.automl.automl: 03-02 15:17:13] {3507} INFO -  at 3.0s,\testimator lgbm's best error=0.3614,\tbest estimator xgboost's best error=0.3596\n",
            "[flaml.automl.automl: 03-02 15:17:13] {3322} INFO - iteration 19, current learner xgboost\n"
          ]
        },
        {
          "output_type": "stream",
          "name": "stderr",
          "text": [
            "/usr/local/lib/python3.8/dist-packages/xgboost/sklearn.py:1395: UserWarning: `use_label_encoder` is deprecated in 1.7.0.\n",
            "  warnings.warn(\"`use_label_encoder` is deprecated in 1.7.0.\")\n",
            "/usr/local/lib/python3.8/dist-packages/xgboost/sklearn.py:1395: UserWarning: `use_label_encoder` is deprecated in 1.7.0.\n",
            "  warnings.warn(\"`use_label_encoder` is deprecated in 1.7.0.\")\n"
          ]
        },
        {
          "output_type": "stream",
          "name": "stdout",
          "text": [
            "[flaml.automl.automl: 03-02 15:17:13] {3507} INFO -  at 3.1s,\testimator xgboost's best error=0.3596,\tbest estimator xgboost's best error=0.3596\n",
            "[flaml.automl.automl: 03-02 15:17:13] {3322} INFO - iteration 20, current learner rf\n",
            "[flaml.automl.automl: 03-02 15:17:13] {3507} INFO -  at 3.2s,\testimator rf's best error=0.3791,\tbest estimator xgboost's best error=0.3596\n",
            "[flaml.automl.automl: 03-02 15:17:13] {3322} INFO - iteration 21, current learner xgboost\n"
          ]
        },
        {
          "output_type": "stream",
          "name": "stderr",
          "text": [
            "/usr/local/lib/python3.8/dist-packages/xgboost/sklearn.py:1395: UserWarning: `use_label_encoder` is deprecated in 1.7.0.\n",
            "  warnings.warn(\"`use_label_encoder` is deprecated in 1.7.0.\")\n"
          ]
        },
        {
          "output_type": "stream",
          "name": "stdout",
          "text": [
            "[flaml.automl.automl: 03-02 15:17:13] {3507} INFO -  at 3.6s,\testimator xgboost's best error=0.3586,\tbest estimator xgboost's best error=0.3586\n",
            "[flaml.automl.automl: 03-02 15:17:13] {3322} INFO - iteration 22, current learner lgbm\n",
            "[flaml.automl.automl: 03-02 15:17:14] {3507} INFO -  at 3.8s,\testimator lgbm's best error=0.3550,\tbest estimator lgbm's best error=0.3550\n",
            "[flaml.automl.automl: 03-02 15:17:14] {3322} INFO - iteration 23, current learner lgbm\n",
            "[flaml.automl.automl: 03-02 15:17:14] {3507} INFO -  at 3.9s,\testimator lgbm's best error=0.3550,\tbest estimator lgbm's best error=0.3550\n",
            "[flaml.automl.automl: 03-02 15:17:14] {3322} INFO - iteration 24, current learner rf\n",
            "[flaml.automl.automl: 03-02 15:17:14] {3507} INFO -  at 4.0s,\testimator rf's best error=0.3789,\tbest estimator lgbm's best error=0.3550\n",
            "[flaml.automl.automl: 03-02 15:17:14] {3322} INFO - iteration 25, current learner xgboost\n",
            "[flaml.automl.automl: 03-02 15:17:14] {3507} INFO -  at 4.2s,\testimator xgboost's best error=0.3577,\tbest estimator lgbm's best error=0.3550\n"
          ]
        },
        {
          "output_type": "stream",
          "name": "stderr",
          "text": [
            "/usr/local/lib/python3.8/dist-packages/xgboost/sklearn.py:1395: UserWarning: `use_label_encoder` is deprecated in 1.7.0.\n",
            "  warnings.warn(\"`use_label_encoder` is deprecated in 1.7.0.\")\n"
          ]
        },
        {
          "output_type": "stream",
          "name": "stdout",
          "text": [
            "[flaml.automl.automl: 03-02 15:17:14] {3322} INFO - iteration 26, current learner lgbm\n",
            "[flaml.automl.automl: 03-02 15:17:14] {3507} INFO -  at 4.6s,\testimator lgbm's best error=0.3545,\tbest estimator lgbm's best error=0.3545\n",
            "[flaml.automl.automl: 03-02 15:17:14] {3322} INFO - iteration 27, current learner lgbm\n",
            "[flaml.automl.automl: 03-02 15:17:15] {3507} INFO -  at 4.9s,\testimator lgbm's best error=0.3545,\tbest estimator lgbm's best error=0.3545\n",
            "[flaml.automl.automl: 03-02 15:17:15] {3322} INFO - iteration 28, current learner xgboost\n"
          ]
        },
        {
          "output_type": "stream",
          "name": "stderr",
          "text": [
            "/usr/local/lib/python3.8/dist-packages/xgboost/sklearn.py:1395: UserWarning: `use_label_encoder` is deprecated in 1.7.0.\n",
            "  warnings.warn(\"`use_label_encoder` is deprecated in 1.7.0.\")\n"
          ]
        },
        {
          "output_type": "stream",
          "name": "stdout",
          "text": [
            "[flaml.automl.automl: 03-02 15:17:15] {3507} INFO -  at 5.4s,\testimator xgboost's best error=0.3561,\tbest estimator lgbm's best error=0.3545\n",
            "[flaml.automl.automl: 03-02 15:17:15] {3322} INFO - iteration 29, current learner xgboost\n"
          ]
        },
        {
          "output_type": "stream",
          "name": "stderr",
          "text": [
            "/usr/local/lib/python3.8/dist-packages/xgboost/sklearn.py:1395: UserWarning: `use_label_encoder` is deprecated in 1.7.0.\n",
            "  warnings.warn(\"`use_label_encoder` is deprecated in 1.7.0.\")\n"
          ]
        },
        {
          "output_type": "stream",
          "name": "stdout",
          "text": [
            "[flaml.automl.automl: 03-02 15:17:16] {3507} INFO -  at 5.8s,\testimator xgboost's best error=0.3561,\tbest estimator lgbm's best error=0.3545\n",
            "[flaml.automl.automl: 03-02 15:17:16] {3322} INFO - iteration 30, current learner lgbm\n",
            "[flaml.automl.automl: 03-02 15:17:16] {3507} INFO -  at 6.5s,\testimator lgbm's best error=0.3545,\tbest estimator lgbm's best error=0.3545\n",
            "[flaml.automl.automl: 03-02 15:17:16] {3322} INFO - iteration 31, current learner lgbm\n",
            "[flaml.automl.automl: 03-02 15:17:17] {3507} INFO -  at 6.8s,\testimator lgbm's best error=0.3536,\tbest estimator lgbm's best error=0.3536\n",
            "[flaml.automl.automl: 03-02 15:17:17] {3322} INFO - iteration 32, current learner lgbm\n",
            "[flaml.automl.automl: 03-02 15:17:17] {3507} INFO -  at 7.2s,\testimator lgbm's best error=0.3536,\tbest estimator lgbm's best error=0.3536\n",
            "[flaml.automl.automl: 03-02 15:17:17] {3322} INFO - iteration 33, current learner xgboost\n"
          ]
        },
        {
          "output_type": "stream",
          "name": "stderr",
          "text": [
            "/usr/local/lib/python3.8/dist-packages/xgboost/sklearn.py:1395: UserWarning: `use_label_encoder` is deprecated in 1.7.0.\n",
            "  warnings.warn(\"`use_label_encoder` is deprecated in 1.7.0.\")\n"
          ]
        },
        {
          "output_type": "stream",
          "name": "stdout",
          "text": [
            "[flaml.automl.automl: 03-02 15:17:20] {3507} INFO -  at 10.7s,\testimator xgboost's best error=0.3561,\tbest estimator lgbm's best error=0.3536\n",
            "[flaml.automl.automl: 03-02 15:17:20] {3322} INFO - iteration 34, current learner lgbm\n",
            "[flaml.automl.automl: 03-02 15:17:21] {3507} INFO -  at 11.7s,\testimator lgbm's best error=0.3536,\tbest estimator lgbm's best error=0.3536\n",
            "[flaml.automl.automl: 03-02 15:17:21] {3322} INFO - iteration 35, current learner lgbm\n",
            "[flaml.automl.automl: 03-02 15:17:23] {3507} INFO -  at 13.6s,\testimator lgbm's best error=0.3528,\tbest estimator lgbm's best error=0.3528\n",
            "[flaml.automl.automl: 03-02 15:17:23] {3322} INFO - iteration 36, current learner xgb_limitdepth\n",
            "[flaml.automl.automl: 03-02 15:17:24] {3507} INFO -  at 13.7s,\testimator xgb_limitdepth's best error=0.3630,\tbest estimator lgbm's best error=0.3528\n",
            "[flaml.automl.automl: 03-02 15:17:24] {3322} INFO - iteration 37, current learner xgb_limitdepth\n",
            "[flaml.automl.automl: 03-02 15:17:24] {3507} INFO -  at 13.8s,\testimator xgb_limitdepth's best error=0.3630,\tbest estimator lgbm's best error=0.3528\n",
            "[flaml.automl.automl: 03-02 15:17:24] {3322} INFO - iteration 38, current learner xgb_limitdepth\n"
          ]
        },
        {
          "output_type": "stream",
          "name": "stderr",
          "text": [
            "/usr/local/lib/python3.8/dist-packages/xgboost/sklearn.py:1395: UserWarning: `use_label_encoder` is deprecated in 1.7.0.\n",
            "  warnings.warn(\"`use_label_encoder` is deprecated in 1.7.0.\")\n",
            "/usr/local/lib/python3.8/dist-packages/xgboost/sklearn.py:1395: UserWarning: `use_label_encoder` is deprecated in 1.7.0.\n",
            "  warnings.warn(\"`use_label_encoder` is deprecated in 1.7.0.\")\n",
            "/usr/local/lib/python3.8/dist-packages/xgboost/sklearn.py:1395: UserWarning: `use_label_encoder` is deprecated in 1.7.0.\n",
            "  warnings.warn(\"`use_label_encoder` is deprecated in 1.7.0.\")\n"
          ]
        },
        {
          "output_type": "stream",
          "name": "stdout",
          "text": [
            "[flaml.automl.automl: 03-02 15:17:24] {3507} INFO -  at 14.2s,\testimator xgb_limitdepth's best error=0.3630,\tbest estimator lgbm's best error=0.3528\n",
            "[flaml.automl.automl: 03-02 15:17:24] {3322} INFO - iteration 39, current learner xgb_limitdepth\n"
          ]
        },
        {
          "output_type": "stream",
          "name": "stderr",
          "text": [
            "/usr/local/lib/python3.8/dist-packages/xgboost/sklearn.py:1395: UserWarning: `use_label_encoder` is deprecated in 1.7.0.\n",
            "  warnings.warn(\"`use_label_encoder` is deprecated in 1.7.0.\")\n"
          ]
        },
        {
          "output_type": "stream",
          "name": "stdout",
          "text": [
            "[flaml.automl.automl: 03-02 15:17:24] {3507} INFO -  at 14.6s,\testimator xgb_limitdepth's best error=0.3630,\tbest estimator lgbm's best error=0.3528\n",
            "[flaml.automl.automl: 03-02 15:17:24] {3322} INFO - iteration 40, current learner xgb_limitdepth\n"
          ]
        },
        {
          "output_type": "stream",
          "name": "stderr",
          "text": [
            "/usr/local/lib/python3.8/dist-packages/xgboost/sklearn.py:1395: UserWarning: `use_label_encoder` is deprecated in 1.7.0.\n",
            "  warnings.warn(\"`use_label_encoder` is deprecated in 1.7.0.\")\n"
          ]
        },
        {
          "output_type": "stream",
          "name": "stdout",
          "text": [
            "[flaml.automl.automl: 03-02 15:17:25] {3507} INFO -  at 14.8s,\testimator xgb_limitdepth's best error=0.3572,\tbest estimator lgbm's best error=0.3528\n",
            "[flaml.automl.automl: 03-02 15:17:25] {3322} INFO - iteration 41, current learner xgb_limitdepth\n",
            "[flaml.automl.automl: 03-02 15:17:25] {3507} INFO -  at 15.0s,\testimator xgb_limitdepth's best error=0.3572,\tbest estimator lgbm's best error=0.3528\n",
            "[flaml.automl.automl: 03-02 15:17:25] {3322} INFO - iteration 42, current learner xgb_limitdepth\n"
          ]
        },
        {
          "output_type": "stream",
          "name": "stderr",
          "text": [
            "/usr/local/lib/python3.8/dist-packages/xgboost/sklearn.py:1395: UserWarning: `use_label_encoder` is deprecated in 1.7.0.\n",
            "  warnings.warn(\"`use_label_encoder` is deprecated in 1.7.0.\")\n",
            "/usr/local/lib/python3.8/dist-packages/xgboost/sklearn.py:1395: UserWarning: `use_label_encoder` is deprecated in 1.7.0.\n",
            "  warnings.warn(\"`use_label_encoder` is deprecated in 1.7.0.\")\n"
          ]
        },
        {
          "output_type": "stream",
          "name": "stdout",
          "text": [
            "[flaml.automl.automl: 03-02 15:17:25] {3507} INFO -  at 15.5s,\testimator xgb_limitdepth's best error=0.3572,\tbest estimator lgbm's best error=0.3528\n",
            "[flaml.automl.automl: 03-02 15:17:25] {3322} INFO - iteration 43, current learner lgbm\n",
            "[flaml.automl.automl: 03-02 15:17:29] {3507} INFO -  at 19.5s,\testimator lgbm's best error=0.3405,\tbest estimator lgbm's best error=0.3405\n",
            "[flaml.automl.automl: 03-02 15:17:29] {3322} INFO - iteration 44, current learner xgb_limitdepth\n",
            "[flaml.automl.automl: 03-02 15:17:29] {3507} INFO -  at 19.7s,\testimator xgb_limitdepth's best error=0.3572,\tbest estimator lgbm's best error=0.3405\n",
            "[flaml.automl.automl: 03-02 15:17:29] {3322} INFO - iteration 45, current learner xgb_limitdepth\n"
          ]
        },
        {
          "output_type": "stream",
          "name": "stderr",
          "text": [
            "/usr/local/lib/python3.8/dist-packages/xgboost/sklearn.py:1395: UserWarning: `use_label_encoder` is deprecated in 1.7.0.\n",
            "  warnings.warn(\"`use_label_encoder` is deprecated in 1.7.0.\")\n",
            "/usr/local/lib/python3.8/dist-packages/xgboost/sklearn.py:1395: UserWarning: `use_label_encoder` is deprecated in 1.7.0.\n",
            "  warnings.warn(\"`use_label_encoder` is deprecated in 1.7.0.\")\n"
          ]
        },
        {
          "output_type": "stream",
          "name": "stdout",
          "text": [
            "[flaml.automl.automl: 03-02 15:17:31] {3507} INFO -  at 20.8s,\testimator xgb_limitdepth's best error=0.3572,\tbest estimator lgbm's best error=0.3405\n",
            "[flaml.automl.automl: 03-02 15:17:31] {3322} INFO - iteration 46, current learner rf\n",
            "[flaml.automl.automl: 03-02 15:17:31] {3507} INFO -  at 21.0s,\testimator rf's best error=0.3781,\tbest estimator lgbm's best error=0.3405\n",
            "[flaml.automl.automl: 03-02 15:17:31] {3322} INFO - iteration 47, current learner lgbm\n",
            "[flaml.automl.automl: 03-02 15:17:33] {3507} INFO -  at 23.3s,\testimator lgbm's best error=0.3405,\tbest estimator lgbm's best error=0.3405\n",
            "[flaml.automl.automl: 03-02 15:17:33] {3322} INFO - iteration 48, current learner rf\n",
            "[flaml.automl.automl: 03-02 15:17:33] {3507} INFO -  at 23.4s,\testimator rf's best error=0.3781,\tbest estimator lgbm's best error=0.3405\n",
            "[flaml.automl.automl: 03-02 15:17:33] {3322} INFO - iteration 49, current learner lgbm\n",
            "[flaml.automl.automl: 03-02 15:17:37] {3507} INFO -  at 27.1s,\testimator lgbm's best error=0.3370,\tbest estimator lgbm's best error=0.3370\n",
            "[flaml.automl.automl: 03-02 15:17:37] {3322} INFO - iteration 50, current learner lgbm\n",
            "[flaml.automl.automl: 03-02 15:17:41] {3507} INFO -  at 31.0s,\testimator lgbm's best error=0.3370,\tbest estimator lgbm's best error=0.3370\n",
            "[flaml.automl.automl: 03-02 15:17:41] {3322} INFO - iteration 51, current learner xgb_limitdepth\n"
          ]
        },
        {
          "output_type": "stream",
          "name": "stderr",
          "text": [
            "/usr/local/lib/python3.8/dist-packages/xgboost/sklearn.py:1395: UserWarning: `use_label_encoder` is deprecated in 1.7.0.\n",
            "  warnings.warn(\"`use_label_encoder` is deprecated in 1.7.0.\")\n"
          ]
        },
        {
          "output_type": "stream",
          "name": "stdout",
          "text": [
            "[flaml.automl.automl: 03-02 15:17:45] {3507} INFO -  at 34.8s,\testimator xgb_limitdepth's best error=0.3532,\tbest estimator lgbm's best error=0.3370\n",
            "[flaml.automl.automl: 03-02 15:17:45] {3322} INFO - iteration 52, current learner lgbm\n",
            "[flaml.automl.automl: 03-02 15:17:48] {3507} INFO -  at 38.0s,\testimator lgbm's best error=0.3370,\tbest estimator lgbm's best error=0.3370\n",
            "[flaml.automl.automl: 03-02 15:17:48] {3322} INFO - iteration 53, current learner lgbm\n",
            "[flaml.automl.automl: 03-02 15:17:52] {3507} INFO -  at 42.4s,\testimator lgbm's best error=0.3318,\tbest estimator lgbm's best error=0.3318\n",
            "[flaml.automl.automl: 03-02 15:17:52] {3322} INFO - iteration 54, current learner lrl1\n"
          ]
        },
        {
          "output_type": "stream",
          "name": "stderr",
          "text": [
            "INFO:flaml.tune.searcher.blendsearch:No low-cost partial config given to the search algorithm. For cost-frugal search, consider providing low-cost values for cost-related hps via 'low_cost_partial_config'. More info can be found at https://microsoft.github.io/FLAML/docs/FAQ#about-low_cost_partial_config-in-tune\n",
            "/usr/local/lib/python3.8/dist-packages/sklearn/linear_model/_sag.py:352: ConvergenceWarning: The max_iter was reached which means the coef_ did not converge\n",
            "  warnings.warn(\n"
          ]
        },
        {
          "output_type": "stream",
          "name": "stdout",
          "text": [
            "[flaml.automl.automl: 03-02 15:17:52] {3507} INFO -  at 42.6s,\testimator lrl1's best error=0.4339,\tbest estimator lgbm's best error=0.3318\n",
            "[flaml.automl.automl: 03-02 15:17:52] {3322} INFO - iteration 55, current learner lrl1\n",
            "[flaml.automl.automl: 03-02 15:17:53] {3507} INFO -  at 42.9s,\testimator lrl1's best error=0.4337,\tbest estimator lgbm's best error=0.3318\n",
            "[flaml.automl.automl: 03-02 15:17:53] {3322} INFO - iteration 56, current learner lgbm\n"
          ]
        },
        {
          "output_type": "stream",
          "name": "stderr",
          "text": [
            "/usr/local/lib/python3.8/dist-packages/sklearn/linear_model/_sag.py:352: ConvergenceWarning: The max_iter was reached which means the coef_ did not converge\n",
            "  warnings.warn(\n"
          ]
        },
        {
          "output_type": "stream",
          "name": "stdout",
          "text": [
            "[flaml.automl.automl: 03-02 15:17:58] {3507} INFO -  at 48.4s,\testimator lgbm's best error=0.3282,\tbest estimator lgbm's best error=0.3282\n",
            "[flaml.automl.automl: 03-02 15:17:58] {3322} INFO - iteration 57, current learner lgbm\n",
            "[flaml.automl.automl: 03-02 15:18:03] {3507} INFO -  at 52.9s,\testimator lgbm's best error=0.3282,\tbest estimator lgbm's best error=0.3282\n",
            "[flaml.automl.automl: 03-02 15:18:03] {3322} INFO - iteration 58, current learner lgbm\n",
            "[flaml.automl.automl: 03-02 15:18:07] {3507} INFO -  at 56.7s,\testimator lgbm's best error=0.3282,\tbest estimator lgbm's best error=0.3282\n",
            "[flaml.automl.automl: 03-02 15:18:07] {3322} INFO - iteration 59, current learner lgbm\n",
            "[flaml.automl.automl: 03-02 15:18:13] {3507} INFO -  at 62.8s,\testimator lgbm's best error=0.3282,\tbest estimator lgbm's best error=0.3282\n",
            "[flaml.automl.automl: 03-02 15:18:13] {3322} INFO - iteration 60, current learner lgbm\n",
            "[flaml.automl.automl: 03-02 15:18:17] {3507} INFO -  at 67.1s,\testimator lgbm's best error=0.3282,\tbest estimator lgbm's best error=0.3282\n",
            "[flaml.automl.automl: 03-02 15:18:17] {3322} INFO - iteration 61, current learner lgbm\n",
            "[flaml.automl.automl: 03-02 15:18:22] {3507} INFO -  at 72.4s,\testimator lgbm's best error=0.3282,\tbest estimator lgbm's best error=0.3282\n",
            "[flaml.automl.automl: 03-02 15:18:22] {3322} INFO - iteration 62, current learner rf\n",
            "[flaml.automl.automl: 03-02 15:18:22] {3507} INFO -  at 72.6s,\testimator rf's best error=0.3725,\tbest estimator lgbm's best error=0.3282\n",
            "[flaml.automl.automl: 03-02 15:18:22] {3322} INFO - iteration 63, current learner rf\n",
            "[flaml.automl.automl: 03-02 15:18:22] {3507} INFO -  at 72.7s,\testimator rf's best error=0.3725,\tbest estimator lgbm's best error=0.3282\n",
            "[flaml.automl.automl: 03-02 15:18:22] {3322} INFO - iteration 64, current learner rf\n",
            "[flaml.automl.automl: 03-02 15:18:23] {3507} INFO -  at 72.9s,\testimator rf's best error=0.3725,\tbest estimator lgbm's best error=0.3282\n",
            "[flaml.automl.automl: 03-02 15:18:23] {3322} INFO - iteration 65, current learner rf\n",
            "[flaml.automl.automl: 03-02 15:18:23] {3507} INFO -  at 73.1s,\testimator rf's best error=0.3706,\tbest estimator lgbm's best error=0.3282\n",
            "[flaml.automl.automl: 03-02 15:18:23] {3322} INFO - iteration 66, current learner lgbm\n",
            "[flaml.automl.automl: 03-02 15:18:25] {3507} INFO -  at 75.7s,\testimator lgbm's best error=0.3282,\tbest estimator lgbm's best error=0.3282\n",
            "[flaml.automl.automl: 03-02 15:18:25] {3322} INFO - iteration 67, current learner rf\n",
            "[flaml.automl.automl: 03-02 15:18:26] {3507} INFO -  at 75.8s,\testimator rf's best error=0.3706,\tbest estimator lgbm's best error=0.3282\n",
            "[flaml.automl.automl: 03-02 15:18:26] {3322} INFO - iteration 68, current learner rf\n",
            "[flaml.automl.automl: 03-02 15:18:26] {3507} INFO -  at 75.9s,\testimator rf's best error=0.3706,\tbest estimator lgbm's best error=0.3282\n",
            "[flaml.automl.automl: 03-02 15:18:26] {3322} INFO - iteration 69, current learner rf\n",
            "[flaml.automl.automl: 03-02 15:18:26] {3507} INFO -  at 76.0s,\testimator rf's best error=0.3706,\tbest estimator lgbm's best error=0.3282\n",
            "[flaml.automl.automl: 03-02 15:18:26] {3322} INFO - iteration 70, current learner lgbm\n",
            "[flaml.automl.automl: 03-02 15:18:35] {3507} INFO -  at 84.8s,\testimator lgbm's best error=0.3282,\tbest estimator lgbm's best error=0.3282\n",
            "[flaml.automl.automl: 03-02 15:18:35] {3322} INFO - iteration 71, current learner rf\n",
            "[flaml.automl.automl: 03-02 15:18:35] {3507} INFO -  at 85.0s,\testimator rf's best error=0.3706,\tbest estimator lgbm's best error=0.3282\n",
            "[flaml.automl.automl: 03-02 15:18:35] {3322} INFO - iteration 72, current learner xgboost\n"
          ]
        },
        {
          "output_type": "stream",
          "name": "stderr",
          "text": [
            "/usr/local/lib/python3.8/dist-packages/xgboost/sklearn.py:1395: UserWarning: `use_label_encoder` is deprecated in 1.7.0.\n",
            "  warnings.warn(\"`use_label_encoder` is deprecated in 1.7.0.\")\n"
          ]
        },
        {
          "output_type": "stream",
          "name": "stdout",
          "text": [
            "[flaml.automl.automl: 03-02 15:18:36] {3507} INFO -  at 85.9s,\testimator xgboost's best error=0.3555,\tbest estimator lgbm's best error=0.3282\n",
            "[flaml.automl.automl: 03-02 15:18:36] {3322} INFO - iteration 73, current learner rf\n",
            "[flaml.automl.automl: 03-02 15:18:36] {3507} INFO -  at 86.0s,\testimator rf's best error=0.3706,\tbest estimator lgbm's best error=0.3282\n",
            "[flaml.automl.automl: 03-02 15:18:36] {3322} INFO - iteration 74, current learner xgb_limitdepth\n"
          ]
        },
        {
          "output_type": "stream",
          "name": "stderr",
          "text": [
            "/usr/local/lib/python3.8/dist-packages/xgboost/sklearn.py:1395: UserWarning: `use_label_encoder` is deprecated in 1.7.0.\n",
            "  warnings.warn(\"`use_label_encoder` is deprecated in 1.7.0.\")\n"
          ]
        },
        {
          "output_type": "stream",
          "name": "stdout",
          "text": [
            "[flaml.automl.automl: 03-02 15:18:37] {3507} INFO -  at 87.3s,\testimator xgb_limitdepth's best error=0.3532,\tbest estimator lgbm's best error=0.3282\n",
            "[flaml.automl.automl: 03-02 15:18:37] {3322} INFO - iteration 75, current learner rf\n",
            "[flaml.automl.automl: 03-02 15:18:37] {3507} INFO -  at 87.6s,\testimator rf's best error=0.3678,\tbest estimator lgbm's best error=0.3282\n",
            "[flaml.automl.automl: 03-02 15:18:37] {3322} INFO - iteration 76, current learner xgb_limitdepth\n"
          ]
        },
        {
          "output_type": "stream",
          "name": "stderr",
          "text": [
            "/usr/local/lib/python3.8/dist-packages/xgboost/sklearn.py:1395: UserWarning: `use_label_encoder` is deprecated in 1.7.0.\n",
            "  warnings.warn(\"`use_label_encoder` is deprecated in 1.7.0.\")\n"
          ]
        },
        {
          "output_type": "stream",
          "name": "stdout",
          "text": [
            "[flaml.automl.automl: 03-02 15:18:41] {3507} INFO -  at 91.2s,\testimator xgb_limitdepth's best error=0.3442,\tbest estimator lgbm's best error=0.3282\n",
            "[flaml.automl.automl: 03-02 15:18:41] {3322} INFO - iteration 77, current learner lgbm\n",
            "[flaml.automl.automl: 03-02 15:19:00] {3507} INFO -  at 110.6s,\testimator lgbm's best error=0.3282,\tbest estimator lgbm's best error=0.3282\n",
            "[flaml.automl.automl: 03-02 15:19:00] {3322} INFO - iteration 78, current learner lgbm\n",
            "[flaml.automl.automl: 03-02 15:19:02] {3507} INFO -  at 112.1s,\testimator lgbm's best error=0.3282,\tbest estimator lgbm's best error=0.3282\n",
            "[flaml.automl.automl: 03-02 15:19:02] {3322} INFO - iteration 79, current learner xgb_limitdepth\n"
          ]
        },
        {
          "output_type": "stream",
          "name": "stderr",
          "text": [
            "/usr/local/lib/python3.8/dist-packages/xgboost/sklearn.py:1395: UserWarning: `use_label_encoder` is deprecated in 1.7.0.\n",
            "  warnings.warn(\"`use_label_encoder` is deprecated in 1.7.0.\")\n"
          ]
        },
        {
          "output_type": "stream",
          "name": "stdout",
          "text": [
            "[flaml.automl.automl: 03-02 15:19:05] {3507} INFO -  at 115.4s,\testimator xgb_limitdepth's best error=0.3442,\tbest estimator lgbm's best error=0.3282\n",
            "[flaml.automl.automl: 03-02 15:19:05] {3322} INFO - iteration 80, current learner rf\n",
            "[flaml.automl.automl: 03-02 15:19:05] {3507} INFO -  at 115.5s,\testimator rf's best error=0.3678,\tbest estimator lgbm's best error=0.3282\n",
            "[flaml.automl.automl: 03-02 15:19:05] {3322} INFO - iteration 81, current learner lgbm\n",
            "[flaml.automl.automl: 03-02 15:19:37] {3507} INFO -  at 147.5s,\testimator lgbm's best error=0.3282,\tbest estimator lgbm's best error=0.3282\n",
            "[flaml.automl.automl: 03-02 15:19:37] {3322} INFO - iteration 82, current learner xgb_limitdepth\n"
          ]
        },
        {
          "output_type": "stream",
          "name": "stderr",
          "text": [
            "/usr/local/lib/python3.8/dist-packages/xgboost/sklearn.py:1395: UserWarning: `use_label_encoder` is deprecated in 1.7.0.\n",
            "  warnings.warn(\"`use_label_encoder` is deprecated in 1.7.0.\")\n"
          ]
        },
        {
          "output_type": "stream",
          "name": "stdout",
          "text": [
            "[flaml.automl.automl: 03-02 15:19:40] {3507} INFO -  at 150.2s,\testimator xgb_limitdepth's best error=0.3386,\tbest estimator lgbm's best error=0.3282\n",
            "[flaml.automl.automl: 03-02 15:19:40] {3322} INFO - iteration 83, current learner rf\n",
            "[flaml.automl.automl: 03-02 15:19:40] {3507} INFO -  at 150.6s,\testimator rf's best error=0.3617,\tbest estimator lgbm's best error=0.3282\n",
            "[flaml.automl.automl: 03-02 15:19:40] {3322} INFO - iteration 84, current learner rf\n",
            "[flaml.automl.automl: 03-02 15:19:41] {3507} INFO -  at 151.0s,\testimator rf's best error=0.3593,\tbest estimator lgbm's best error=0.3282\n",
            "[flaml.automl.automl: 03-02 15:19:41] {3322} INFO - iteration 85, current learner xgb_limitdepth\n"
          ]
        },
        {
          "output_type": "stream",
          "name": "stderr",
          "text": [
            "/usr/local/lib/python3.8/dist-packages/xgboost/sklearn.py:1395: UserWarning: `use_label_encoder` is deprecated in 1.7.0.\n",
            "  warnings.warn(\"`use_label_encoder` is deprecated in 1.7.0.\")\n"
          ]
        },
        {
          "output_type": "stream",
          "name": "stdout",
          "text": [
            "[flaml.automl.automl: 03-02 15:19:44] {3507} INFO -  at 153.8s,\testimator xgb_limitdepth's best error=0.3386,\tbest estimator lgbm's best error=0.3282\n",
            "[flaml.automl.automl: 03-02 15:19:44] {3322} INFO - iteration 86, current learner xgb_limitdepth\n"
          ]
        },
        {
          "output_type": "stream",
          "name": "stderr",
          "text": [
            "/usr/local/lib/python3.8/dist-packages/xgboost/sklearn.py:1395: UserWarning: `use_label_encoder` is deprecated in 1.7.0.\n",
            "  warnings.warn(\"`use_label_encoder` is deprecated in 1.7.0.\")\n"
          ]
        },
        {
          "output_type": "stream",
          "name": "stdout",
          "text": [
            "[flaml.automl.automl: 03-02 15:19:47] {3507} INFO -  at 157.6s,\testimator xgb_limitdepth's best error=0.3386,\tbest estimator lgbm's best error=0.3282\n",
            "[flaml.automl.automl: 03-02 15:19:47] {3322} INFO - iteration 87, current learner rf\n",
            "[flaml.automl.automl: 03-02 15:19:48] {3507} INFO -  at 158.0s,\testimator rf's best error=0.3593,\tbest estimator lgbm's best error=0.3282\n",
            "[flaml.automl.automl: 03-02 15:19:48] {3322} INFO - iteration 88, current learner xgb_limitdepth\n"
          ]
        },
        {
          "output_type": "stream",
          "name": "stderr",
          "text": [
            "/usr/local/lib/python3.8/dist-packages/xgboost/sklearn.py:1395: UserWarning: `use_label_encoder` is deprecated in 1.7.0.\n",
            "  warnings.warn(\"`use_label_encoder` is deprecated in 1.7.0.\")\n"
          ]
        },
        {
          "output_type": "stream",
          "name": "stdout",
          "text": [
            "[flaml.automl.automl: 03-02 15:19:51] {3507} INFO -  at 161.0s,\testimator xgb_limitdepth's best error=0.3352,\tbest estimator lgbm's best error=0.3282\n",
            "[flaml.automl.automl: 03-02 15:19:51] {3322} INFO - iteration 89, current learner rf\n",
            "[flaml.automl.automl: 03-02 15:19:51] {3507} INFO -  at 161.3s,\testimator rf's best error=0.3593,\tbest estimator lgbm's best error=0.3282\n",
            "[flaml.automl.automl: 03-02 15:19:51] {3322} INFO - iteration 90, current learner rf\n",
            "[flaml.automl.automl: 03-02 15:19:52] {3507} INFO -  at 161.8s,\testimator rf's best error=0.3593,\tbest estimator lgbm's best error=0.3282\n",
            "[flaml.automl.automl: 03-02 15:19:52] {3322} INFO - iteration 91, current learner xgb_limitdepth\n"
          ]
        },
        {
          "output_type": "stream",
          "name": "stderr",
          "text": [
            "/usr/local/lib/python3.8/dist-packages/xgboost/sklearn.py:1395: UserWarning: `use_label_encoder` is deprecated in 1.7.0.\n",
            "  warnings.warn(\"`use_label_encoder` is deprecated in 1.7.0.\")\n"
          ]
        },
        {
          "output_type": "stream",
          "name": "stdout",
          "text": [
            "[flaml.automl.automl: 03-02 15:19:54] {3507} INFO -  at 164.6s,\testimator xgb_limitdepth's best error=0.3352,\tbest estimator lgbm's best error=0.3282\n",
            "[flaml.automl.automl: 03-02 15:19:54] {3322} INFO - iteration 92, current learner rf\n",
            "[flaml.automl.automl: 03-02 15:19:55] {3507} INFO -  at 164.9s,\testimator rf's best error=0.3593,\tbest estimator lgbm's best error=0.3282\n",
            "[flaml.automl.automl: 03-02 15:19:55] {3322} INFO - iteration 93, current learner lrl1\n",
            "[flaml.automl.automl: 03-02 15:19:55] {3507} INFO -  at 165.1s,\testimator lrl1's best error=0.4337,\tbest estimator lgbm's best error=0.3282\n",
            "[flaml.automl.automl: 03-02 15:19:55] {3322} INFO - iteration 94, current learner xgb_limitdepth\n"
          ]
        },
        {
          "output_type": "stream",
          "name": "stderr",
          "text": [
            "/usr/local/lib/python3.8/dist-packages/sklearn/linear_model/_sag.py:352: ConvergenceWarning: The max_iter was reached which means the coef_ did not converge\n",
            "  warnings.warn(\n",
            "/usr/local/lib/python3.8/dist-packages/xgboost/sklearn.py:1395: UserWarning: `use_label_encoder` is deprecated in 1.7.0.\n",
            "  warnings.warn(\"`use_label_encoder` is deprecated in 1.7.0.\")\n"
          ]
        },
        {
          "output_type": "stream",
          "name": "stdout",
          "text": [
            "[flaml.automl.automl: 03-02 15:20:00] {3507} INFO -  at 170.1s,\testimator xgb_limitdepth's best error=0.3352,\tbest estimator lgbm's best error=0.3282\n",
            "[flaml.automl.automl: 03-02 15:20:00] {3322} INFO - iteration 95, current learner xgboost\n"
          ]
        },
        {
          "output_type": "stream",
          "name": "stderr",
          "text": [
            "/usr/local/lib/python3.8/dist-packages/xgboost/sklearn.py:1395: UserWarning: `use_label_encoder` is deprecated in 1.7.0.\n",
            "  warnings.warn(\"`use_label_encoder` is deprecated in 1.7.0.\")\n"
          ]
        },
        {
          "output_type": "stream",
          "name": "stdout",
          "text": [
            "[flaml.automl.automl: 03-02 15:20:01] {3507} INFO -  at 171.3s,\testimator xgboost's best error=0.3555,\tbest estimator lgbm's best error=0.3282\n",
            "[flaml.automl.automl: 03-02 15:20:01] {3322} INFO - iteration 96, current learner lgbm\n",
            "[flaml.automl.automl: 03-02 15:20:02] {3507} INFO -  at 172.6s,\testimator lgbm's best error=0.3282,\tbest estimator lgbm's best error=0.3282\n",
            "[flaml.automl.automl: 03-02 15:20:02] {3322} INFO - iteration 97, current learner xgb_limitdepth\n"
          ]
        },
        {
          "output_type": "stream",
          "name": "stderr",
          "text": [
            "/usr/local/lib/python3.8/dist-packages/xgboost/sklearn.py:1395: UserWarning: `use_label_encoder` is deprecated in 1.7.0.\n",
            "  warnings.warn(\"`use_label_encoder` is deprecated in 1.7.0.\")\n"
          ]
        },
        {
          "output_type": "stream",
          "name": "stdout",
          "text": [
            "[flaml.automl.automl: 03-02 15:20:05] {3507} INFO -  at 175.4s,\testimator xgb_limitdepth's best error=0.3352,\tbest estimator lgbm's best error=0.3282\n",
            "[flaml.automl.automl: 03-02 15:20:05] {3322} INFO - iteration 98, current learner rf\n",
            "[flaml.automl.automl: 03-02 15:20:06] {3507} INFO -  at 176.0s,\testimator rf's best error=0.3565,\tbest estimator lgbm's best error=0.3282\n",
            "[flaml.automl.automl: 03-02 15:20:06] {3322} INFO - iteration 99, current learner rf\n",
            "[flaml.automl.automl: 03-02 15:20:07] {3507} INFO -  at 176.7s,\testimator rf's best error=0.3565,\tbest estimator lgbm's best error=0.3282\n",
            "[flaml.automl.automl: 03-02 15:20:07] {3322} INFO - iteration 100, current learner rf\n",
            "[flaml.automl.automl: 03-02 15:20:07] {3507} INFO -  at 177.6s,\testimator rf's best error=0.3565,\tbest estimator lgbm's best error=0.3282\n",
            "[flaml.automl.automl: 03-02 15:20:07] {3322} INFO - iteration 101, current learner lgbm\n",
            "[flaml.automl.automl: 03-02 15:20:14] {3507} INFO -  at 183.9s,\testimator lgbm's best error=0.3282,\tbest estimator lgbm's best error=0.3282\n",
            "[flaml.automl.automl: 03-02 15:20:14] {3322} INFO - iteration 102, current learner xgb_limitdepth\n"
          ]
        },
        {
          "output_type": "stream",
          "name": "stderr",
          "text": [
            "/usr/local/lib/python3.8/dist-packages/xgboost/sklearn.py:1395: UserWarning: `use_label_encoder` is deprecated in 1.7.0.\n",
            "  warnings.warn(\"`use_label_encoder` is deprecated in 1.7.0.\")\n"
          ]
        },
        {
          "output_type": "stream",
          "name": "stdout",
          "text": [
            "[flaml.automl.automl: 03-02 15:20:18] {3507} INFO -  at 187.9s,\testimator xgb_limitdepth's best error=0.3352,\tbest estimator lgbm's best error=0.3282\n",
            "[flaml.automl.automl: 03-02 15:20:18] {3322} INFO - iteration 103, current learner xgboost\n"
          ]
        },
        {
          "output_type": "stream",
          "name": "stderr",
          "text": [
            "/usr/local/lib/python3.8/dist-packages/xgboost/sklearn.py:1395: UserWarning: `use_label_encoder` is deprecated in 1.7.0.\n",
            "  warnings.warn(\"`use_label_encoder` is deprecated in 1.7.0.\")\n"
          ]
        },
        {
          "output_type": "stream",
          "name": "stdout",
          "text": [
            "[flaml.automl.automl: 03-02 15:20:19] {3507} INFO -  at 188.9s,\testimator xgboost's best error=0.3485,\tbest estimator lgbm's best error=0.3282\n",
            "[flaml.automl.automl: 03-02 15:20:19] {3322} INFO - iteration 104, current learner lgbm\n",
            "[flaml.automl.automl: 03-02 15:20:24] {3507} INFO -  at 194.0s,\testimator lgbm's best error=0.3282,\tbest estimator lgbm's best error=0.3282\n",
            "[flaml.automl.automl: 03-02 15:20:24] {3322} INFO - iteration 105, current learner xgboost\n"
          ]
        },
        {
          "output_type": "stream",
          "name": "stderr",
          "text": [
            "/usr/local/lib/python3.8/dist-packages/xgboost/sklearn.py:1395: UserWarning: `use_label_encoder` is deprecated in 1.7.0.\n",
            "  warnings.warn(\"`use_label_encoder` is deprecated in 1.7.0.\")\n"
          ]
        },
        {
          "output_type": "stream",
          "name": "stdout",
          "text": [
            "[flaml.automl.automl: 03-02 15:20:25] {3507} INFO -  at 195.0s,\testimator xgboost's best error=0.3485,\tbest estimator lgbm's best error=0.3282\n",
            "[flaml.automl.automl: 03-02 15:20:25] {3322} INFO - iteration 106, current learner xgboost\n"
          ]
        },
        {
          "output_type": "stream",
          "name": "stderr",
          "text": [
            "/usr/local/lib/python3.8/dist-packages/xgboost/sklearn.py:1395: UserWarning: `use_label_encoder` is deprecated in 1.7.0.\n",
            "  warnings.warn(\"`use_label_encoder` is deprecated in 1.7.0.\")\n"
          ]
        },
        {
          "output_type": "stream",
          "name": "stdout",
          "text": [
            "[flaml.automl.automl: 03-02 15:20:26] {3507} INFO -  at 196.0s,\testimator xgboost's best error=0.3485,\tbest estimator lgbm's best error=0.3282\n",
            "[flaml.automl.automl: 03-02 15:20:26] {3322} INFO - iteration 107, current learner xgboost\n"
          ]
        },
        {
          "output_type": "stream",
          "name": "stderr",
          "text": [
            "/usr/local/lib/python3.8/dist-packages/xgboost/sklearn.py:1395: UserWarning: `use_label_encoder` is deprecated in 1.7.0.\n",
            "  warnings.warn(\"`use_label_encoder` is deprecated in 1.7.0.\")\n"
          ]
        },
        {
          "output_type": "stream",
          "name": "stdout",
          "text": [
            "[flaml.automl.automl: 03-02 15:20:27] {3507} INFO -  at 197.5s,\testimator xgboost's best error=0.3485,\tbest estimator lgbm's best error=0.3282\n",
            "[flaml.automl.automl: 03-02 15:20:27] {3322} INFO - iteration 108, current learner xgb_limitdepth\n"
          ]
        },
        {
          "output_type": "stream",
          "name": "stderr",
          "text": [
            "/usr/local/lib/python3.8/dist-packages/xgboost/sklearn.py:1395: UserWarning: `use_label_encoder` is deprecated in 1.7.0.\n",
            "  warnings.warn(\"`use_label_encoder` is deprecated in 1.7.0.\")\n"
          ]
        },
        {
          "output_type": "stream",
          "name": "stdout",
          "text": [
            "[flaml.automl.automl: 03-02 15:20:30] {3507} INFO -  at 199.9s,\testimator xgb_limitdepth's best error=0.3352,\tbest estimator lgbm's best error=0.3282\n",
            "[flaml.automl.automl: 03-02 15:20:30] {3322} INFO - iteration 109, current learner xgboost\n"
          ]
        },
        {
          "output_type": "stream",
          "name": "stderr",
          "text": [
            "/usr/local/lib/python3.8/dist-packages/xgboost/sklearn.py:1395: UserWarning: `use_label_encoder` is deprecated in 1.7.0.\n",
            "  warnings.warn(\"`use_label_encoder` is deprecated in 1.7.0.\")\n"
          ]
        },
        {
          "output_type": "stream",
          "name": "stdout",
          "text": [
            "[flaml.automl.automl: 03-02 15:20:30] {3507} INFO -  at 200.6s,\testimator xgboost's best error=0.3485,\tbest estimator lgbm's best error=0.3282\n",
            "[flaml.automl.automl: 03-02 15:20:30] {3322} INFO - iteration 110, current learner xgb_limitdepth\n"
          ]
        },
        {
          "output_type": "stream",
          "name": "stderr",
          "text": [
            "/usr/local/lib/python3.8/dist-packages/xgboost/sklearn.py:1395: UserWarning: `use_label_encoder` is deprecated in 1.7.0.\n",
            "  warnings.warn(\"`use_label_encoder` is deprecated in 1.7.0.\")\n"
          ]
        },
        {
          "output_type": "stream",
          "name": "stdout",
          "text": [
            "[flaml.automl.automl: 03-02 15:20:36] {3507} INFO -  at 206.2s,\testimator xgb_limitdepth's best error=0.3352,\tbest estimator lgbm's best error=0.3282\n",
            "[flaml.automl.automl: 03-02 15:20:36] {3322} INFO - iteration 111, current learner xgboost\n"
          ]
        },
        {
          "output_type": "stream",
          "name": "stderr",
          "text": [
            "/usr/local/lib/python3.8/dist-packages/xgboost/sklearn.py:1395: UserWarning: `use_label_encoder` is deprecated in 1.7.0.\n",
            "  warnings.warn(\"`use_label_encoder` is deprecated in 1.7.0.\")\n"
          ]
        },
        {
          "output_type": "stream",
          "name": "stdout",
          "text": [
            "[flaml.automl.automl: 03-02 15:20:41] {3507} INFO -  at 210.7s,\testimator xgboost's best error=0.3408,\tbest estimator lgbm's best error=0.3282\n",
            "[flaml.automl.automl: 03-02 15:20:41] {3322} INFO - iteration 112, current learner lgbm\n",
            "[flaml.automl.automl: 03-02 15:20:44] {3507} INFO -  at 214.7s,\testimator lgbm's best error=0.3274,\tbest estimator lgbm's best error=0.3274\n",
            "[flaml.automl.automl: 03-02 15:20:44] {3322} INFO - iteration 113, current learner xgb_limitdepth\n"
          ]
        },
        {
          "output_type": "stream",
          "name": "stderr",
          "text": [
            "/usr/local/lib/python3.8/dist-packages/xgboost/sklearn.py:1395: UserWarning: `use_label_encoder` is deprecated in 1.7.0.\n",
            "  warnings.warn(\"`use_label_encoder` is deprecated in 1.7.0.\")\n"
          ]
        },
        {
          "output_type": "stream",
          "name": "stdout",
          "text": [
            "[flaml.automl.automl: 03-02 15:20:49] {3507} INFO -  at 219.2s,\testimator xgb_limitdepth's best error=0.3352,\tbest estimator lgbm's best error=0.3274\n",
            "[flaml.automl.automl: 03-02 15:20:49] {3322} INFO - iteration 114, current learner xgboost\n"
          ]
        },
        {
          "output_type": "stream",
          "name": "stderr",
          "text": [
            "/usr/local/lib/python3.8/dist-packages/xgboost/sklearn.py:1395: UserWarning: `use_label_encoder` is deprecated in 1.7.0.\n",
            "  warnings.warn(\"`use_label_encoder` is deprecated in 1.7.0.\")\n"
          ]
        },
        {
          "output_type": "stream",
          "name": "stdout",
          "text": [
            "[flaml.automl.automl: 03-02 15:20:53] {3507} INFO -  at 223.7s,\testimator xgboost's best error=0.3361,\tbest estimator lgbm's best error=0.3274\n",
            "[flaml.automl.automl: 03-02 15:20:53] {3322} INFO - iteration 115, current learner lrl1\n",
            "[flaml.automl.automl: 03-02 15:20:54] {3507} INFO -  at 224.5s,\testimator lrl1's best error=0.4334,\tbest estimator lgbm's best error=0.3274\n",
            "[flaml.automl.automl: 03-02 15:20:54] {3322} INFO - iteration 116, current learner rf\n"
          ]
        },
        {
          "output_type": "stream",
          "name": "stderr",
          "text": [
            "/usr/local/lib/python3.8/dist-packages/sklearn/linear_model/_sag.py:352: ConvergenceWarning: The max_iter was reached which means the coef_ did not converge\n",
            "  warnings.warn(\n"
          ]
        },
        {
          "output_type": "stream",
          "name": "stdout",
          "text": [
            "[flaml.automl.automl: 03-02 15:20:56] {3507} INFO -  at 225.9s,\testimator rf's best error=0.3512,\tbest estimator lgbm's best error=0.3274\n",
            "[flaml.automl.automl: 03-02 15:20:56] {3322} INFO - iteration 117, current learner rf\n",
            "[flaml.automl.automl: 03-02 15:20:56] {3507} INFO -  at 226.5s,\testimator rf's best error=0.3512,\tbest estimator lgbm's best error=0.3274\n",
            "[flaml.automl.automl: 03-02 15:20:56] {3322} INFO - iteration 118, current learner extra_tree\n",
            "[flaml.automl.automl: 03-02 15:20:56] {3507} INFO -  at 226.6s,\testimator extra_tree's best error=0.3787,\tbest estimator lgbm's best error=0.3274\n",
            "[flaml.automl.automl: 03-02 15:20:56] {3322} INFO - iteration 119, current learner xgboost\n"
          ]
        },
        {
          "output_type": "stream",
          "name": "stderr",
          "text": [
            "/usr/local/lib/python3.8/dist-packages/xgboost/sklearn.py:1395: UserWarning: `use_label_encoder` is deprecated in 1.7.0.\n",
            "  warnings.warn(\"`use_label_encoder` is deprecated in 1.7.0.\")\n"
          ]
        },
        {
          "output_type": "stream",
          "name": "stdout",
          "text": [
            "[flaml.automl.automl: 03-02 15:21:03] {3507} INFO -  at 232.7s,\testimator xgboost's best error=0.3361,\tbest estimator lgbm's best error=0.3274\n",
            "[flaml.automl.automl: 03-02 15:21:03] {3322} INFO - iteration 120, current learner lgbm\n",
            "[flaml.automl.automl: 03-02 15:21:06] {3507} INFO -  at 236.4s,\testimator lgbm's best error=0.3274,\tbest estimator lgbm's best error=0.3274\n",
            "[flaml.automl.automl: 03-02 15:21:06] {3322} INFO - iteration 121, current learner xgboost\n"
          ]
        },
        {
          "output_type": "stream",
          "name": "stderr",
          "text": [
            "/usr/local/lib/python3.8/dist-packages/xgboost/sklearn.py:1395: UserWarning: `use_label_encoder` is deprecated in 1.7.0.\n",
            "  warnings.warn(\"`use_label_encoder` is deprecated in 1.7.0.\")\n"
          ]
        },
        {
          "output_type": "stream",
          "name": "stdout",
          "text": [
            "[flaml.automl.automl: 03-02 15:21:16] {3507} INFO -  at 246.4s,\testimator xgboost's best error=0.3295,\tbest estimator lgbm's best error=0.3274\n",
            "[flaml.automl.automl: 03-02 15:21:16] {3322} INFO - iteration 122, current learner xgboost\n"
          ]
        },
        {
          "output_type": "stream",
          "name": "stderr",
          "text": [
            "/usr/local/lib/python3.8/dist-packages/xgboost/sklearn.py:1395: UserWarning: `use_label_encoder` is deprecated in 1.7.0.\n",
            "  warnings.warn(\"`use_label_encoder` is deprecated in 1.7.0.\")\n"
          ]
        },
        {
          "output_type": "stream",
          "name": "stdout",
          "text": [
            "[flaml.automl.automl: 03-02 15:21:21] {3507} INFO -  at 250.9s,\testimator xgboost's best error=0.3295,\tbest estimator lgbm's best error=0.3274\n",
            "[flaml.automl.automl: 03-02 15:21:21] {3322} INFO - iteration 123, current learner extra_tree\n",
            "[flaml.automl.automl: 03-02 15:21:21] {3507} INFO -  at 251.0s,\testimator extra_tree's best error=0.3787,\tbest estimator lgbm's best error=0.3274\n",
            "[flaml.automl.automl: 03-02 15:21:21] {3322} INFO - iteration 124, current learner xgboost\n"
          ]
        },
        {
          "output_type": "stream",
          "name": "stderr",
          "text": [
            "/usr/local/lib/python3.8/dist-packages/xgboost/sklearn.py:1395: UserWarning: `use_label_encoder` is deprecated in 1.7.0.\n",
            "  warnings.warn(\"`use_label_encoder` is deprecated in 1.7.0.\")\n"
          ]
        },
        {
          "output_type": "stream",
          "name": "stdout",
          "text": [
            "[flaml.automl.automl: 03-02 15:21:33] {3507} INFO -  at 263.2s,\testimator xgboost's best error=0.3295,\tbest estimator lgbm's best error=0.3274\n",
            "[flaml.automl.automl: 03-02 15:21:33] {3322} INFO - iteration 125, current learner rf\n",
            "[flaml.automl.automl: 03-02 15:21:37] {3507} INFO -  at 267.0s,\testimator rf's best error=0.3512,\tbest estimator lgbm's best error=0.3274\n",
            "[flaml.automl.automl: 03-02 15:21:37] {3322} INFO - iteration 126, current learner lgbm\n",
            "[flaml.automl.automl: 03-02 15:21:39] {3507} INFO -  at 269.3s,\testimator lgbm's best error=0.3274,\tbest estimator lgbm's best error=0.3274\n",
            "[flaml.automl.automl: 03-02 15:21:39] {3322} INFO - iteration 127, current learner lgbm\n",
            "[flaml.automl.automl: 03-02 15:21:52] {3507} INFO -  at 282.2s,\testimator lgbm's best error=0.3268,\tbest estimator lgbm's best error=0.3268\n",
            "[flaml.automl.automl: 03-02 15:21:52] {3322} INFO - iteration 128, current learner lgbm\n",
            "[flaml.automl.automl: 03-02 15:21:57] {3507} INFO -  at 287.5s,\testimator lgbm's best error=0.3268,\tbest estimator lgbm's best error=0.3268\n",
            "[flaml.automl.automl: 03-02 15:21:57] {3322} INFO - iteration 129, current learner lgbm\n",
            "[flaml.automl.automl: 03-02 15:22:12] {3507} INFO -  at 301.9s,\testimator lgbm's best error=0.3250,\tbest estimator lgbm's best error=0.3250\n",
            "[flaml.automl.automl: 03-02 15:22:12] {3322} INFO - iteration 130, current learner xgboost\n"
          ]
        },
        {
          "output_type": "stream",
          "name": "stderr",
          "text": [
            "/usr/local/lib/python3.8/dist-packages/xgboost/sklearn.py:1395: UserWarning: `use_label_encoder` is deprecated in 1.7.0.\n",
            "  warnings.warn(\"`use_label_encoder` is deprecated in 1.7.0.\")\n"
          ]
        },
        {
          "output_type": "stream",
          "name": "stdout",
          "text": [
            "[flaml.automl.automl: 03-02 15:22:21] {3507} INFO -  at 311.6s,\testimator xgboost's best error=0.3295,\tbest estimator lgbm's best error=0.3250\n",
            "[flaml.automl.automl: 03-02 15:22:21] {3322} INFO - iteration 131, current learner lgbm\n",
            "[flaml.automl.automl: 03-02 15:22:30] {3507} INFO -  at 319.8s,\testimator lgbm's best error=0.3250,\tbest estimator lgbm's best error=0.3250\n",
            "[flaml.automl.automl: 03-02 15:22:30] {3322} INFO - iteration 132, current learner lgbm\n",
            "[flaml.automl.automl: 03-02 15:23:06] {3507} INFO -  at 356.0s,\testimator lgbm's best error=0.3250,\tbest estimator lgbm's best error=0.3250\n",
            "[flaml.automl.automl: 03-02 15:23:06] {3322} INFO - iteration 133, current learner xgboost\n"
          ]
        },
        {
          "output_type": "stream",
          "name": "stderr",
          "text": [
            "/usr/local/lib/python3.8/dist-packages/xgboost/sklearn.py:1395: UserWarning: `use_label_encoder` is deprecated in 1.7.0.\n",
            "  warnings.warn(\"`use_label_encoder` is deprecated in 1.7.0.\")\n"
          ]
        },
        {
          "output_type": "stream",
          "name": "stdout",
          "text": [
            "[flaml.automl.automl: 03-02 15:23:21] {3507} INFO -  at 371.2s,\testimator xgboost's best error=0.3279,\tbest estimator lgbm's best error=0.3250\n",
            "[flaml.automl.automl: 03-02 15:23:21] {3322} INFO - iteration 134, current learner lgbm\n",
            "[flaml.automl.automl: 03-02 15:23:40] {3507} INFO -  at 390.6s,\testimator lgbm's best error=0.3250,\tbest estimator lgbm's best error=0.3250\n",
            "[flaml.automl.automl: 03-02 15:23:40] {3322} INFO - iteration 135, current learner lgbm\n",
            "[flaml.automl.automl: 03-02 15:23:54] {3507} INFO -  at 404.6s,\testimator lgbm's best error=0.3250,\tbest estimator lgbm's best error=0.3250\n",
            "[flaml.automl.automl: 03-02 15:23:54] {3322} INFO - iteration 136, current learner rf\n",
            "[flaml.automl.automl: 03-02 15:23:55] {3507} INFO -  at 405.3s,\testimator rf's best error=0.3512,\tbest estimator lgbm's best error=0.3250\n",
            "[flaml.automl.automl: 03-02 15:23:55] {3322} INFO - iteration 137, current learner lrl1\n",
            "[flaml.automl.automl: 03-02 15:23:56] {3507} INFO -  at 406.2s,\testimator lrl1's best error=0.4334,\tbest estimator lgbm's best error=0.3250\n",
            "[flaml.automl.automl: 03-02 15:23:56] {3322} INFO - iteration 138, current learner rf\n"
          ]
        },
        {
          "output_type": "stream",
          "name": "stderr",
          "text": [
            "/usr/local/lib/python3.8/dist-packages/sklearn/linear_model/_sag.py:352: ConvergenceWarning: The max_iter was reached which means the coef_ did not converge\n",
            "  warnings.warn(\n"
          ]
        },
        {
          "output_type": "stream",
          "name": "stdout",
          "text": [
            "[flaml.automl.automl: 03-02 15:23:59] {3507} INFO -  at 408.8s,\testimator rf's best error=0.3512,\tbest estimator lgbm's best error=0.3250\n",
            "[flaml.automl.automl: 03-02 15:23:59] {3322} INFO - iteration 139, current learner lgbm\n",
            "[flaml.automl.automl: 03-02 15:24:08] {3507} INFO -  at 418.5s,\testimator lgbm's best error=0.3250,\tbest estimator lgbm's best error=0.3250\n",
            "[flaml.automl.automl: 03-02 15:24:08] {3322} INFO - iteration 140, current learner extra_tree\n",
            "[flaml.automl.automl: 03-02 15:24:08] {3507} INFO -  at 418.6s,\testimator extra_tree's best error=0.3787,\tbest estimator lgbm's best error=0.3250\n",
            "[flaml.automl.automl: 03-02 15:24:08] {3322} INFO - iteration 141, current learner lgbm\n",
            "[flaml.automl.automl: 03-02 15:24:29] {3507} INFO -  at 438.8s,\testimator lgbm's best error=0.3250,\tbest estimator lgbm's best error=0.3250\n",
            "[flaml.automl.automl: 03-02 15:24:29] {3322} INFO - iteration 142, current learner extra_tree\n",
            "[flaml.automl.automl: 03-02 15:24:29] {3507} INFO -  at 438.9s,\testimator extra_tree's best error=0.3787,\tbest estimator lgbm's best error=0.3250\n",
            "[flaml.automl.automl: 03-02 15:24:29] {3322} INFO - iteration 143, current learner rf\n",
            "[flaml.automl.automl: 03-02 15:24:41] {3507} INFO -  at 451.3s,\testimator rf's best error=0.3436,\tbest estimator lgbm's best error=0.3250\n",
            "[flaml.automl.automl: 03-02 15:24:41] {3322} INFO - iteration 144, current learner xgb_limitdepth\n"
          ]
        },
        {
          "output_type": "stream",
          "name": "stderr",
          "text": [
            "/usr/local/lib/python3.8/dist-packages/xgboost/sklearn.py:1395: UserWarning: `use_label_encoder` is deprecated in 1.7.0.\n",
            "  warnings.warn(\"`use_label_encoder` is deprecated in 1.7.0.\")\n"
          ]
        },
        {
          "output_type": "stream",
          "name": "stdout",
          "text": [
            "[flaml.automl.automl: 03-02 15:24:46] {3507} INFO -  at 455.7s,\testimator xgb_limitdepth's best error=0.3352,\tbest estimator lgbm's best error=0.3250\n",
            "[flaml.automl.automl: 03-02 15:24:46] {3322} INFO - iteration 145, current learner xgboost\n"
          ]
        },
        {
          "output_type": "stream",
          "name": "stderr",
          "text": [
            "/usr/local/lib/python3.8/dist-packages/xgboost/sklearn.py:1395: UserWarning: `use_label_encoder` is deprecated in 1.7.0.\n",
            "  warnings.warn(\"`use_label_encoder` is deprecated in 1.7.0.\")\n"
          ]
        },
        {
          "output_type": "stream",
          "name": "stdout",
          "text": [
            "[flaml.automl.automl: 03-02 15:24:55] {3507} INFO -  at 465.6s,\testimator xgboost's best error=0.3279,\tbest estimator lgbm's best error=0.3250\n",
            "[flaml.automl.automl: 03-02 15:24:55] {3322} INFO - iteration 146, current learner rf\n",
            "[flaml.automl.automl: 03-02 15:25:24] {3507} INFO -  at 494.4s,\testimator rf's best error=0.3436,\tbest estimator lgbm's best error=0.3250\n",
            "[flaml.automl.automl: 03-02 15:25:24] {3322} INFO - iteration 147, current learner lgbm\n",
            "[flaml.automl.automl: 03-02 15:25:27] {3507} INFO -  at 497.2s,\testimator lgbm's best error=0.3250,\tbest estimator lgbm's best error=0.3250\n",
            "[flaml.automl.automl: 03-02 15:25:27] {3322} INFO - iteration 148, current learner lgbm\n",
            "[flaml.automl.automl: 03-02 15:26:37] {3507} INFO -  at 566.9s,\testimator lgbm's best error=0.3250,\tbest estimator lgbm's best error=0.3250\n",
            "[flaml.automl.automl: 03-02 15:26:37] {3322} INFO - iteration 149, current learner lgbm\n",
            "[flaml.automl.automl: 03-02 15:27:16] {3507} INFO -  at 606.1s,\testimator lgbm's best error=0.3250,\tbest estimator lgbm's best error=0.3250\n",
            "[flaml.automl.automl: 03-02 15:27:29] {3771} INFO - retrain lgbm for 13.5s\n",
            "[flaml.automl.automl: 03-02 15:27:29] {3778} INFO - retrained model: LGBMClassifier(colsample_bytree=0.763983850698587,\n",
            "               learning_rate=0.08749366799403727, max_bin=127,\n",
            "               min_child_samples=128, n_estimators=302, num_leaves=466,\n",
            "               reg_alpha=0.09968008477303378, reg_lambda=23.22741934331899,\n",
            "               verbose=-1)\n",
            "[flaml.automl.automl: 03-02 15:27:29] {3023} INFO - fit succeeded\n",
            "[flaml.automl.automl: 03-02 15:27:29] {3024} INFO - Time taken to find the best model: 301.86371517181396\n"
          ]
        }
      ],
      "source": [
        "'''The main flaml automl API'''\n",
        "automl.fit(X_train=X_train, y_train=y_train, **settings)"
      ]
    },
    {
      "cell_type": "markdown",
      "metadata": {
        "id": "MkXS0tbo19xs"
      },
      "source": [
        "### Best model and metric"
      ]
    },
    {
      "cell_type": "code",
      "execution_count": 7,
      "metadata": {
        "tags": [],
        "id": "r0JwIF1D19xt",
        "outputId": "835b6d51-2314-4169-f045-dacc4f2fdebb",
        "colab": {
          "base_uri": "https://localhost:8080/"
        }
      },
      "outputs": [
        {
          "output_type": "stream",
          "name": "stdout",
          "text": [
            "Best ML leaner: lgbm\n",
            "Best hyperparmeter config: {'n_estimators': 302, 'num_leaves': 466, 'min_child_samples': 128, 'learning_rate': 0.08749366799403727, 'log_max_bin': 7, 'colsample_bytree': 0.763983850698587, 'reg_alpha': 0.09968008477303378, 'reg_lambda': 23.22741934331899}\n",
            "Best accuracy on validation data: 0.675\n",
            "Training duration of best run: 13.53 s\n"
          ]
        }
      ],
      "source": [
        "'''retrieve best config and best learner'''\n",
        "print('Best ML leaner:', automl.best_estimator)\n",
        "print('Best hyperparmeter config:', automl.best_config)\n",
        "print('Best accuracy on validation data: {0:.4g}'.format(1-automl.best_loss))\n",
        "print('Training duration of best run: {0:.4g} s'.format(automl.best_config_train_time))"
      ]
    },
    {
      "cell_type": "code",
      "execution_count": 8,
      "metadata": {
        "id": "mUoK9Csn19xt",
        "outputId": "ba2b09b9-a953-4c03-d3e1-0196513bd79f",
        "colab": {
          "base_uri": "https://localhost:8080/"
        }
      },
      "outputs": [
        {
          "output_type": "execute_result",
          "data": {
            "text/plain": [
              "LGBMClassifier(colsample_bytree=0.763983850698587,\n",
              "               learning_rate=0.08749366799403727, max_bin=127,\n",
              "               min_child_samples=128, n_estimators=302, num_leaves=466,\n",
              "               reg_alpha=0.09968008477303378, reg_lambda=23.22741934331899,\n",
              "               verbose=-1)"
            ]
          },
          "metadata": {},
          "execution_count": 8
        }
      ],
      "source": [
        "automl.model.estimator"
      ]
    },
    {
      "cell_type": "code",
      "execution_count": 9,
      "metadata": {
        "id": "pAvlfPWR19xu"
      },
      "outputs": [],
      "source": [
        "'''pickle and save the automl object'''\n",
        "import pickle\n",
        "\n",
        "with open('automl.pkl', 'wb') as f:\n",
        "    pickle.dump(automl, f, pickle.HIGHEST_PROTOCOL)\n",
        "'''load pickled automl object'''\n",
        "with open('automl.pkl', 'rb') as f:\n",
        "    automl = pickle.load(f)"
      ]
    },
    {
      "cell_type": "code",
      "execution_count": 10,
      "metadata": {
        "tags": [],
        "id": "yUSV1LZc19xv",
        "outputId": "83b14e6a-ec99-4f5f-e6e9-416f81e5648f",
        "colab": {
          "base_uri": "https://localhost:8080/"
        }
      },
      "outputs": [
        {
          "output_type": "stream",
          "name": "stdout",
          "text": [
            "Predicted labels ['1' '0' '1' ... '1' '0' '0']\n",
            "True labels 118331    0\n",
            "328182    0\n",
            "335454    0\n",
            "520591    1\n",
            "344651    0\n",
            "         ..\n",
            "367080    0\n",
            "203510    1\n",
            "254894    0\n",
            "296512    1\n",
            "362444    0\n",
            "Name: Delay, Length: 134846, dtype: category\n",
            "Categories (2, object): ['0' < '1']\n"
          ]
        }
      ],
      "source": [
        "'''compute predictions of testing dataset''' \n",
        "y_pred = automl.predict(X_test)\n",
        "print('Predicted labels', y_pred)\n",
        "print('True labels', y_test)\n",
        "y_pred_proba = automl.predict_proba(X_test)[:,1]"
      ]
    },
    {
      "cell_type": "code",
      "execution_count": 11,
      "metadata": {
        "tags": [],
        "id": "JjzpfHgH19xv",
        "outputId": "f9ef76df-db97-49a0-a76a-35d1b99a5b6f",
        "colab": {
          "base_uri": "https://localhost:8080/"
        }
      },
      "outputs": [
        {
          "output_type": "stream",
          "name": "stdout",
          "text": [
            "accuracy = 0.6732939797991784\n",
            "roc_auc = 0.7276250346550404\n",
            "log_loss = 0.6014655432027879\n"
          ]
        }
      ],
      "source": [
        "''' compute different metric values on testing dataset'''\n",
        "from flaml.ml import sklearn_metric_loss_score\n",
        "\n",
        "print('accuracy', '=', 1 - sklearn_metric_loss_score('accuracy', y_pred, y_test))\n",
        "print('roc_auc', '=', 1 - sklearn_metric_loss_score('roc_auc', y_pred_proba, y_test))\n",
        "print('log_loss', '=', sklearn_metric_loss_score('log_loss', y_pred_proba, y_test))"
      ]
    },
    {
      "cell_type": "markdown",
      "metadata": {
        "id": "gcIO-DFc19xw"
      },
      "source": [
        "See Section 4 for an accuracy comparison with default LightGBM and XGBoost.\n",
        "\n",
        "### Log history"
      ]
    },
    {
      "cell_type": "code",
      "execution_count": 12,
      "metadata": {
        "tags": [],
        "id": "p0k59XkR19xx",
        "outputId": "07906c88-af10-4506-ccea-5b171d8a2a56",
        "colab": {
          "base_uri": "https://localhost:8080/"
        }
      },
      "outputs": [
        {
          "output_type": "stream",
          "name": "stdout",
          "text": [
            "{'Current Learner': 'lgbm', 'Current Sample': 10000, 'Current Hyper-parameters': {'n_estimators': 4, 'num_leaves': 4, 'min_child_samples': 20, 'learning_rate': 0.09999999999999995, 'log_max_bin': 8, 'colsample_bytree': 1.0, 'reg_alpha': 0.0009765625, 'reg_lambda': 1.0, 'FLAML_sample_size': 10000}, 'Best Learner': 'lgbm', 'Best Hyper-parameters': {'n_estimators': 4, 'num_leaves': 4, 'min_child_samples': 20, 'learning_rate': 0.09999999999999995, 'log_max_bin': 8, 'colsample_bytree': 1.0, 'reg_alpha': 0.0009765625, 'reg_lambda': 1.0, 'FLAML_sample_size': 10000}}\n",
            "{'Current Learner': 'lgbm', 'Current Sample': 10000, 'Current Hyper-parameters': {'n_estimators': 26, 'num_leaves': 4, 'min_child_samples': 18, 'learning_rate': 0.2293009676418639, 'log_max_bin': 9, 'colsample_bytree': 0.9086551727646448, 'reg_alpha': 0.0015561782752413472, 'reg_lambda': 0.33127416269768944, 'FLAML_sample_size': 10000}, 'Best Learner': 'lgbm', 'Best Hyper-parameters': {'n_estimators': 26, 'num_leaves': 4, 'min_child_samples': 18, 'learning_rate': 0.2293009676418639, 'log_max_bin': 9, 'colsample_bytree': 0.9086551727646448, 'reg_alpha': 0.0015561782752413472, 'reg_lambda': 0.33127416269768944, 'FLAML_sample_size': 10000}}\n",
            "{'Current Learner': 'xgboost', 'Current Sample': 10000, 'Current Hyper-parameters': {'n_estimators': 129, 'max_leaves': 4, 'min_child_weight': 1.6664725229213329, 'learning_rate': 0.15020964613123336, 'subsample': 0.9773266280674643, 'colsample_bylevel': 0.9705283362807284, 'colsample_bytree': 0.8561269216168275, 'reg_alpha': 0.0021694711024901254, 'reg_lambda': 9.455213695118394, 'FLAML_sample_size': 10000}, 'Best Learner': 'xgboost', 'Best Hyper-parameters': {'n_estimators': 129, 'max_leaves': 4, 'min_child_weight': 1.6664725229213329, 'learning_rate': 0.15020964613123336, 'subsample': 0.9773266280674643, 'colsample_bylevel': 0.9705283362807284, 'colsample_bytree': 0.8561269216168275, 'reg_alpha': 0.0021694711024901254, 'reg_lambda': 9.455213695118394, 'FLAML_sample_size': 10000}}\n",
            "{'Current Learner': 'xgboost', 'Current Sample': 10000, 'Current Hyper-parameters': {'n_estimators': 335, 'max_leaves': 4, 'min_child_weight': 1.7371777222393723, 'learning_rate': 0.03973373324002567, 'subsample': 1.0, 'colsample_bylevel': 0.9344398385890139, 'colsample_bytree': 0.9621235054574703, 'reg_alpha': 0.0009765625, 'reg_lambda': 16.013887670807488, 'FLAML_sample_size': 10000}, 'Best Learner': 'xgboost', 'Best Hyper-parameters': {'n_estimators': 335, 'max_leaves': 4, 'min_child_weight': 1.7371777222393723, 'learning_rate': 0.03973373324002567, 'subsample': 1.0, 'colsample_bylevel': 0.9344398385890139, 'colsample_bytree': 0.9621235054574703, 'reg_alpha': 0.0009765625, 'reg_lambda': 16.013887670807488, 'FLAML_sample_size': 10000}}\n",
            "{'Current Learner': 'lgbm', 'Current Sample': 40000, 'Current Hyper-parameters': {'n_estimators': 55, 'num_leaves': 4, 'min_child_samples': 20, 'learning_rate': 0.43653962213332903, 'log_max_bin': 10, 'colsample_bytree': 0.8048558760626646, 'reg_alpha': 0.0009765625, 'reg_lambda': 0.23010605579846408, 'FLAML_sample_size': 40000}, 'Best Learner': 'lgbm', 'Best Hyper-parameters': {'n_estimators': 55, 'num_leaves': 4, 'min_child_samples': 20, 'learning_rate': 0.43653962213332903, 'log_max_bin': 10, 'colsample_bytree': 0.8048558760626646, 'reg_alpha': 0.0009765625, 'reg_lambda': 0.23010605579846408, 'FLAML_sample_size': 40000}}\n",
            "{'Current Learner': 'lgbm', 'Current Sample': 40000, 'Current Hyper-parameters': {'n_estimators': 90, 'num_leaves': 18, 'min_child_samples': 34, 'learning_rate': 0.35726266205297247, 'log_max_bin': 10, 'colsample_bytree': 0.9295656128173544, 'reg_alpha': 0.0009765625, 'reg_lambda': 0.1981463604305675, 'FLAML_sample_size': 40000}, 'Best Learner': 'lgbm', 'Best Hyper-parameters': {'n_estimators': 90, 'num_leaves': 18, 'min_child_samples': 34, 'learning_rate': 0.35726266205297247, 'log_max_bin': 10, 'colsample_bytree': 0.9295656128173544, 'reg_alpha': 0.0009765625, 'reg_lambda': 0.1981463604305675, 'FLAML_sample_size': 40000}}\n",
            "{'Current Learner': 'lgbm', 'Current Sample': 40000, 'Current Hyper-parameters': {'n_estimators': 56, 'num_leaves': 7, 'min_child_samples': 92, 'learning_rate': 0.23536463281405448, 'log_max_bin': 10, 'colsample_bytree': 0.9898009552962395, 'reg_alpha': 0.0009765625, 'reg_lambda': 0.14329426172643311, 'FLAML_sample_size': 40000}, 'Best Learner': 'lgbm', 'Best Hyper-parameters': {'n_estimators': 56, 'num_leaves': 7, 'min_child_samples': 92, 'learning_rate': 0.23536463281405448, 'log_max_bin': 10, 'colsample_bytree': 0.9898009552962395, 'reg_alpha': 0.0009765625, 'reg_lambda': 0.14329426172643311, 'FLAML_sample_size': 40000}}\n",
            "{'Current Learner': 'lgbm', 'Current Sample': 364083, 'Current Hyper-parameters': {'n_estimators': 56, 'num_leaves': 7, 'min_child_samples': 92, 'learning_rate': 0.23536463281405448, 'log_max_bin': 10, 'colsample_bytree': 0.9898009552962395, 'reg_alpha': 0.0009765625, 'reg_lambda': 0.14329426172643311, 'FLAML_sample_size': 364083}, 'Best Learner': 'lgbm', 'Best Hyper-parameters': {'n_estimators': 56, 'num_leaves': 7, 'min_child_samples': 92, 'learning_rate': 0.23536463281405448, 'log_max_bin': 10, 'colsample_bytree': 0.9898009552962395, 'reg_alpha': 0.0009765625, 'reg_lambda': 0.14329426172643311, 'FLAML_sample_size': 364083}}\n",
            "{'Current Learner': 'lgbm', 'Current Sample': 364083, 'Current Hyper-parameters': {'n_estimators': 179, 'num_leaves': 27, 'min_child_samples': 75, 'learning_rate': 0.09744966359309036, 'log_max_bin': 10, 'colsample_bytree': 1.0, 'reg_alpha': 0.002826104794043855, 'reg_lambda': 0.1457318237156161, 'FLAML_sample_size': 364083}, 'Best Learner': 'lgbm', 'Best Hyper-parameters': {'n_estimators': 179, 'num_leaves': 27, 'min_child_samples': 75, 'learning_rate': 0.09744966359309036, 'log_max_bin': 10, 'colsample_bytree': 1.0, 'reg_alpha': 0.002826104794043855, 'reg_lambda': 0.1457318237156161, 'FLAML_sample_size': 364083}}\n",
            "{'Current Learner': 'lgbm', 'Current Sample': 364083, 'Current Hyper-parameters': {'n_estimators': 180, 'num_leaves': 31, 'min_child_samples': 112, 'learning_rate': 0.14172261747380896, 'log_max_bin': 8, 'colsample_bytree': 0.9882716197099741, 'reg_alpha': 0.004676080321450302, 'reg_lambda': 2.704862827036818, 'FLAML_sample_size': 364083}, 'Best Learner': 'lgbm', 'Best Hyper-parameters': {'n_estimators': 180, 'num_leaves': 31, 'min_child_samples': 112, 'learning_rate': 0.14172261747380896, 'log_max_bin': 8, 'colsample_bytree': 0.9882716197099741, 'reg_alpha': 0.004676080321450302, 'reg_lambda': 2.704862827036818, 'FLAML_sample_size': 364083}}\n",
            "{'Current Learner': 'lgbm', 'Current Sample': 364083, 'Current Hyper-parameters': {'n_estimators': 284, 'num_leaves': 24, 'min_child_samples': 57, 'learning_rate': 0.34506374431782694, 'log_max_bin': 8, 'colsample_bytree': 0.9661606582789269, 'reg_alpha': 0.05708594148438563, 'reg_lambda': 3.0806435484123478, 'FLAML_sample_size': 364083}, 'Best Learner': 'lgbm', 'Best Hyper-parameters': {'n_estimators': 284, 'num_leaves': 24, 'min_child_samples': 57, 'learning_rate': 0.34506374431782694, 'log_max_bin': 8, 'colsample_bytree': 0.9661606582789269, 'reg_alpha': 0.05708594148438563, 'reg_lambda': 3.0806435484123478, 'FLAML_sample_size': 364083}}\n",
            "{'Current Learner': 'lgbm', 'Current Sample': 364083, 'Current Hyper-parameters': {'n_estimators': 150, 'num_leaves': 176, 'min_child_samples': 62, 'learning_rate': 0.2607939951456869, 'log_max_bin': 8, 'colsample_bytree': 1.0, 'reg_alpha': 0.015973158305354472, 'reg_lambda': 1.1581244082992255, 'FLAML_sample_size': 364083}, 'Best Learner': 'lgbm', 'Best Hyper-parameters': {'n_estimators': 150, 'num_leaves': 176, 'min_child_samples': 62, 'learning_rate': 0.2607939951456869, 'log_max_bin': 8, 'colsample_bytree': 1.0, 'reg_alpha': 0.015973158305354472, 'reg_lambda': 1.1581244082992255, 'FLAML_sample_size': 364083}}\n",
            "{'Current Learner': 'lgbm', 'Current Sample': 364083, 'Current Hyper-parameters': {'n_estimators': 100, 'num_leaves': 380, 'min_child_samples': 83, 'learning_rate': 0.14396881822179283, 'log_max_bin': 7, 'colsample_bytree': 0.9365250834556608, 'reg_alpha': 0.07492795084698504, 'reg_lambda': 10.854898771631584, 'FLAML_sample_size': 364083}, 'Best Learner': 'lgbm', 'Best Hyper-parameters': {'n_estimators': 100, 'num_leaves': 380, 'min_child_samples': 83, 'learning_rate': 0.14396881822179283, 'log_max_bin': 7, 'colsample_bytree': 0.9365250834556608, 'reg_alpha': 0.07492795084698504, 'reg_lambda': 10.854898771631584, 'FLAML_sample_size': 364083}}\n"
          ]
        }
      ],
      "source": [
        "from flaml.data import get_output_from_log\n",
        "\n",
        "time_history, best_valid_loss_history, valid_loss_history, config_history, metric_history = \\\n",
        "    get_output_from_log(filename=settings['log_file_name'], time_budget=240)\n",
        "for config in config_history:\n",
        "    print(config)"
      ]
    },
    {
      "cell_type": "code",
      "execution_count": 13,
      "metadata": {
        "id": "j5lBOTHm19xx",
        "outputId": "07ba55b0-00a8-4900-ddd7-2953ffe7744f",
        "colab": {
          "base_uri": "https://localhost:8080/",
          "height": 295
        }
      },
      "outputs": [
        {
          "output_type": "display_data",
          "data": {
            "text/plain": [
              "<Figure size 432x288 with 1 Axes>"
            ],
            "image/png": "[encoded data removed]"
          },
          "metadata": {
            "needs_background": "light"
          }
        }
      ],
      "source": [
        "import matplotlib.pyplot as plt\n",
        "import numpy as np\n",
        "\n",
        "plt.title('Learning Curve')\n",
        "plt.xlabel('Wall Clock Time (s)')\n",
        "plt.ylabel('Validation Accuracy')\n",
        "plt.scatter(time_history, 1 - np.array(valid_loss_history))\n",
        "plt.step(time_history, 1 - np.array(best_valid_loss_history), where='post')\n",
        "plt.show()"
      ]
    },
    {
      "cell_type": "markdown",
      "metadata": {
        "id": "ROzbjmIU19xy"
      },
      "source": [
        "## 3. Comparison with alternatives\n"
      ]
    },
    {
      "cell_type": "markdown",
      "metadata": {
        "id": "Mm2hW4mn19xz"
      },
      "source": [
        "### Default LightGBM"
      ]
    },
    {
      "cell_type": "code",
      "execution_count": 14,
      "metadata": {
        "id": "bHTKKEbV19xz"
      },
      "outputs": [],
      "source": [
        "from lightgbm import LGBMClassifier\n",
        "\n",
        "lgbm = LGBMClassifier()"
      ]
    },
    {
      "cell_type": "code",
      "execution_count": 15,
      "metadata": {
        "id": "1TaI9FRC19x0",
        "outputId": "5c27324c-a921-4adb-b109-cdea51d9a2c8",
        "colab": {
          "base_uri": "https://localhost:8080/"
        }
      },
      "outputs": [
        {
          "output_type": "execute_result",
          "data": {
            "text/plain": [
              "LGBMClassifier()"
            ]
          },
          "metadata": {},
          "execution_count": 15
        }
      ],
      "source": [
        "lgbm.fit(X_train, y_train)"
      ]
    },
    {
      "cell_type": "code",
      "execution_count": 16,
      "metadata": {
        "id": "XFb1aKtB19x0"
      },
      "outputs": [],
      "source": [
        "y_pred_lgbm = lgbm.predict(X_test)"
      ]
    },
    {
      "cell_type": "markdown",
      "metadata": {
        "id": "yOAKFrG719x1"
      },
      "source": [
        "### Default XGBoost"
      ]
    },
    {
      "cell_type": "code",
      "execution_count": 17,
      "metadata": {
        "id": "FFOQPKDB19x1"
      },
      "outputs": [],
      "source": [
        "from xgboost import XGBClassifier\n",
        "\n",
        "xgb = XGBClassifier()\n",
        "cat_columns = X_train.select_dtypes(include=['category']).columns\n",
        "X = X_train.copy()\n",
        "X[cat_columns] = X[cat_columns].apply(lambda x: x.cat.codes)\n",
        "y_train = y_train.astype('int')\n",
        "y_test_xgb = y_test.astype('int')"
      ]
    },
    {
      "cell_type": "code",
      "execution_count": 18,
      "metadata": {
        "id": "Xq7Ew04d19x2",
        "outputId": "d7ab8284-e4d1-427e-87b4-6751f8a2c96d",
        "colab": {
          "base_uri": "https://localhost:8080/"
        }
      },
      "outputs": [
        {
          "output_type": "execute_result",
          "data": {
            "text/plain": [
              "XGBClassifier(base_score=None, booster=None, callbacks=None,\n",
              "              colsample_bylevel=None, colsample_bynode=None,\n",
              "              colsample_bytree=None, early_stopping_rounds=None,\n",
              "              enable_categorical=False, eval_metric=None, feature_types=None,\n",
              "              gamma=None, gpu_id=None, grow_policy=None, importance_type=None,\n",
              "              interaction_constraints=None, learning_rate=None, max_bin=None,\n",
              "              max_cat_threshold=None, max_cat_to_onehot=None,\n",
              "              max_delta_step=None, max_depth=None, max_leaves=None,\n",
              "              min_child_weight=None, missing=nan, monotone_constraints=None,\n",
              "              n_estimators=100, n_jobs=None, num_parallel_tree=None,\n",
              "              predictor=None, random_state=None, ...)"
            ]
          },
          "metadata": {},
          "execution_count": 18
        }
      ],
      "source": [
        "xgb.fit(X, y_train)"
      ]
    },
    {
      "cell_type": "code",
      "execution_count": 19,
      "metadata": {
        "id": "18hYXQyl19x2"
      },
      "outputs": [],
      "source": [
        "X = X_test.copy()\n",
        "X[cat_columns] = X[cat_columns].apply(lambda x: x.cat.codes)\n",
        "y_pred_xgb = xgb.predict(X)\n"
      ]
    },
    {
      "cell_type": "code",
      "execution_count": 20,
      "metadata": {
        "id": "OUKR1Gd619x3",
        "outputId": "38d0e944-376d-42df-c606-ac2352ba2906",
        "colab": {
          "base_uri": "https://localhost:8080/"
        }
      },
      "outputs": [
        {
          "output_type": "stream",
          "name": "stdout",
          "text": [
            "default xgboost accuracy = 0.6676060098186078\n",
            "default lgbm accuracy = 0.6602346380315323\n",
            "flaml (10 min) accuracy = 0.6732939797991784\n"
          ]
        }
      ],
      "source": [
        "print('default xgboost accuracy', '=', 1 - sklearn_metric_loss_score('accuracy', y_pred_xgb, y_test_xgb))\n",
        "print('default lgbm accuracy', '=', 1 - sklearn_metric_loss_score('accuracy', y_pred_lgbm, y_test))\n",
        "print('flaml (10 min) accuracy', '=', 1 - sklearn_metric_loss_score('accuracy', y_pred, y_test))"
      ]
    }
  ],
  "metadata": {
    "kernelspec": {
      "display_name": "Python 3.9.15 64-bit",
      "language": "python",
      "name": "python3"
    },
    "language_info": {
      "codemirror_mode": {
        "name": "ipython",
        "version": 3
      },
      "file_extension": ".py",
      "mimetype": "text/x-python",
      "name": "python",
      "nbconvert_exporter": "python",
      "pygments_lexer": "ipython3",
      "version": "3.8.12"
    },
    "vscode": {
      "interpreter": {
        "hash": "949777d72b0d2535278d3dc13498b2535136f6dfe0678499012e853ee9abcab1"
      }
    },
    "colab": {
      "provenance": [],
      "toc_visible": true,
      "include_colab_link": true
    },
    "accelerator": "GPU",
    "gpuClass": "standard"
  },
  "nbformat": 4,
  "nbformat_minor": 0
}