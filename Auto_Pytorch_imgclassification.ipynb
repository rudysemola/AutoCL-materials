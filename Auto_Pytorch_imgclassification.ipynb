{
  "nbformat": 4,
  "nbformat_minor": 0,
  "metadata": {
    "colab": {
      "provenance": [],
      "authorship_tag": "ABX9TyNcycsgsaQc+09Ljbocv5oJ",
      "include_colab_link": true
    },
    "kernelspec": {
      "name": "python3",
      "display_name": "Python 3"
    },
    "language_info": {
      "name": "python"
    },
    "accelerator": "GPU",
    "gpuClass": "standard"
  },
  "cells": [
    {
      "cell_type": "markdown",
      "metadata": {
        "id": "view-in-github",
        "colab_type": "text"
      },
      "source": [
        "<a href=\"https://colab.research.google.com/github/rudysemola/AutoCL-materials/blob/main/Auto_Pytorch_imgclassification.ipynb\" target=\"_parent\"><img src=\"https://colab.research.google.com/assets/colab-badge.svg\" alt=\"Open In Colab\"/></a>"
      ]
    },
    {
      "cell_type": "markdown",
      "source": [
        "# Auto-Pytorch Image Classification"
      ],
      "metadata": {
        "id": "r-j1R7T2Ttls"
      }
    },
    {
      "cell_type": "code",
      "execution_count": null,
      "metadata": {
        "id": "_VU_q3jCTqYF"
      },
      "outputs": [],
      "source": [
        "!pip install autoPyTorch\n",
        "# pip install autoPyTorch[forecasting]"
      ]
    },
    {
      "cell_type": "markdown",
      "source": [
        "## CODE"
      ],
      "metadata": {
        "id": "o_OyAcPGT-gL"
      }
    },
    {
      "cell_type": "code",
      "source": [
        "\"\"\"\n",
        "======================\n",
        "Image Classification import\n",
        "======================\n",
        "\"\"\"\n",
        "import numpy as np\n",
        "\n",
        "import sklearn.model_selection\n",
        "\n",
        "import torchvision.datasets\n",
        "\n",
        "from autoPyTorch.pipeline.image_classification import ImageClassificationPipeline"
      ],
      "metadata": {
        "id": "nH8N65mKTvH7"
      },
      "execution_count": 3,
      "outputs": []
    },
    {
      "cell_type": "code",
      "source": [
        "\"\"\"\n",
        "======================\n",
        "Image Classification dataset management\n",
        "======\n",
        "\"\"\"\n",
        "# Get the training data for tabular classification\n",
        "trainset = torchvision.datasets.FashionMNIST(root='../datasets/', train=True, download=True)\n",
        "data = trainset.data.numpy()\n",
        "data = np.expand_dims(data, axis=3)\n",
        "# Create a proof of concept pipeline!\n",
        "dataset_properties = dict()\n",
        "pipeline = ImageClassificationPipeline(dataset_properties=dataset_properties)\n",
        "\n",
        "# Train and test split\n",
        "train_indices, val_indices = sklearn.model_selection.train_test_split(\n",
        "    list(range(data.shape[0])),\n",
        "    random_state=1,\n",
        "    test_size=0.25,\n",
        ")"
      ],
      "metadata": {
        "id": "3uFnP9ZAUk4O"
      },
      "execution_count": null,
      "outputs": []
    },
    {
      "cell_type": "code",
      "source": [
        "\"Auto-Pytorch\"\n",
        "\n",
        "# Configuration space\n",
        "pipeline_cs = pipeline.get_hyperparameter_search_space()\n",
        "print(\"Pipeline CS:\\n\", '_' * 40, f\"\\n{pipeline_cs}\")\n",
        "config = pipeline_cs.sample_configuration()\n",
        "print(\"Pipeline Random Config:\\n\", '_' * 40, f\"\\n{config}\")\n",
        "pipeline.set_hyperparameters(config)\n",
        "\n",
        "# Fit the pipeline\n",
        "print(\"Fitting the pipeline...\")\n",
        "\n",
        "pipeline.fit(X=dict(X_train=data,\n",
        "                    is_small_preprocess=True,\n",
        "                    dataset_properties=dict(mean=np.array([np.mean(data[:, :, :, i]) for i in range(1)]),\n",
        "                                            std=np.array([np.std(data[:, :, :, i]) for i in range(1)]),\n",
        "                                            num_classes=10,\n",
        "                                            num_features=data.shape[1] * data.shape[2],\n",
        "                                            image_height=data.shape[1],\n",
        "                                            image_width=data.shape[2],\n",
        "                                            is_small_preprocess=True),\n",
        "                    train_indices=train_indices,\n",
        "                    val_indices=val_indices,\n",
        "                    )\n",
        "             )\n",
        "\n",
        "# Showcase some components of the pipeline\n",
        "print(pipeline)"
      ],
      "metadata": {
        "colab": {
          "base_uri": "https://localhost:8080/"
        },
        "id": "qWmO-w6LUfiB",
        "outputId": "cf6fdbca-2cdb-48d6-c824-5bf246c6bfd6"
      },
      "execution_count": 5,
      "outputs": [
        {
          "output_type": "stream",
          "name": "stdout",
          "text": [
            "Pipeline CS:\n",
            " ________________________________________ \n",
            "Configuration space object:\n",
            "  Hyperparameters:\n",
            "    image_augmenter:GaussianBlur:sigma_min, Type: UniformFloat, Range: [0.0, 3.0], Default: 0.0\n",
            "    image_augmenter:GaussianBlur:sigma_offset, Type: UniformFloat, Range: [0.0, 3.0], Default: 0.5\n",
            "    image_augmenter:GaussianBlur:use_augmenter, Type: Categorical, Choices: {True, False}, Default: True\n",
            "    image_augmenter:GaussianNoise:sigma_offset, Type: UniformFloat, Range: [0.0, 3.0], Default: 0.3\n",
            "    image_augmenter:GaussianNoise:use_augmenter, Type: Categorical, Choices: {True, False}, Default: True\n",
            "    image_augmenter:RandomAffine:rotate, Type: UniformInteger, Range: [0, 360], Default: 45\n",
            "    image_augmenter:RandomAffine:scale_offset, Type: UniformFloat, Range: [0.0, 0.4], Default: 0.2\n",
            "    image_augmenter:RandomAffine:shear, Type: UniformInteger, Range: [0, 45], Default: 30\n",
            "    image_augmenter:RandomAffine:translate_percent_offset, Type: UniformFloat, Range: [0.0, 0.4], Default: 0.2\n",
            "    image_augmenter:RandomAffine:use_augmenter, Type: Categorical, Choices: {True, False}, Default: True\n",
            "    image_augmenter:RandomCutout:p, Type: UniformFloat, Range: [0.2, 1.0], Default: 0.5\n",
            "    image_augmenter:RandomCutout:use_augmenter, Type: Categorical, Choices: {True, False}, Default: True\n",
            "    image_augmenter:Resize:use_augmenter, Type: Categorical, Choices: {True, False}, Default: True\n",
            "    image_augmenter:ZeroPadAndCrop:percent, Type: UniformFloat, Range: [0.0, 0.5], Default: 0.1\n",
            "    normalizer:__choice__, Type: Categorical, Choices: {ImageNormalizer, NoNormalizer}, Default: ImageNormalizer\n",
            "  Conditions:\n",
            "    image_augmenter:GaussianBlur:sigma_min | image_augmenter:GaussianBlur:use_augmenter == True\n",
            "    image_augmenter:GaussianBlur:sigma_offset | image_augmenter:GaussianBlur:use_augmenter == True\n",
            "    image_augmenter:GaussianNoise:sigma_offset | image_augmenter:GaussianNoise:use_augmenter == True\n",
            "    image_augmenter:RandomAffine:rotate | image_augmenter:RandomAffine:use_augmenter == True\n",
            "    image_augmenter:RandomAffine:scale_offset | image_augmenter:RandomAffine:use_augmenter == True\n",
            "    image_augmenter:RandomAffine:shear | image_augmenter:RandomAffine:use_augmenter == True\n",
            "    image_augmenter:RandomAffine:translate_percent_offset | image_augmenter:RandomAffine:use_augmenter == True\n",
            "    image_augmenter:RandomCutout:p | image_augmenter:RandomCutout:use_augmenter == True\n",
            "\n",
            "Pipeline Random Config:\n",
            " ________________________________________ \n",
            "Configuration(values={\n",
            "  'image_augmenter:GaussianBlur:use_augmenter': False,\n",
            "  'image_augmenter:GaussianNoise:sigma_offset': 2.793595745815953,\n",
            "  'image_augmenter:GaussianNoise:use_augmenter': True,\n",
            "  'image_augmenter:RandomAffine:use_augmenter': False,\n",
            "  'image_augmenter:RandomCutout:p': 0.3802015699069319,\n",
            "  'image_augmenter:RandomCutout:use_augmenter': True,\n",
            "  'image_augmenter:Resize:use_augmenter': True,\n",
            "  'image_augmenter:ZeroPadAndCrop:percent': 0.28398292813391895,\n",
            "  'normalizer:__choice__': 'ImageNormalizer',\n",
            "})\n",
            "\n",
            "Fitting the pipeline...\n",
            "________________________________________\n",
            "\tImageClassificationPipeline\n",
            "________________________________________\n",
            "0-) normalizer: \n",
            "\tImageNormalizer\n",
            "\n",
            "1-) preprocessing: \n",
            "\tEarlyPreprocessing\n",
            "\n",
            "2-) image_augmenter: \n",
            "\tImageAugmenter\n",
            "\n",
            "________________________________________\n"
          ]
        }
      ]
    }
  ]
}